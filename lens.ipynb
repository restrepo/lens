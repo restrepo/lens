{
 "cells": [
  {
   "cell_type": "code",
   "execution_count": 1,
   "metadata": {},
   "outputs": [],
   "source": [
    "import pandas as pd"
   ]
  },
  {
   "cell_type": "code",
   "execution_count": 2,
   "metadata": {},
   "outputs": [],
   "source": [
    "ln=pd.read_json('university of antioquia (busqueda exacta).json')"
   ]
  },
  {
   "cell_type": "code",
   "execution_count": 3,
   "metadata": {},
   "outputs": [
    {
     "data": {
      "text/plain": [
       "(23714, 25)"
      ]
     },
     "execution_count": 3,
     "metadata": {},
     "output_type": "execute_result"
    }
   ],
   "source": [
    "ln.shape"
   ]
  },
  {
   "cell_type": "code",
   "execution_count": null,
   "metadata": {},
   "outputs": [],
   "source": [
    "269-340-095-748"
   ]
  },
  {
   "cell_type": "code",
   "execution_count": 4,
   "metadata": {},
   "outputs": [
    {
     "data": {
      "text/html": [
       "<div>\n",
       "<style scoped>\n",
       "    .dataframe tbody tr th:only-of-type {\n",
       "        vertical-align: middle;\n",
       "    }\n",
       "\n",
       "    .dataframe tbody tr th {\n",
       "        vertical-align: top;\n",
       "    }\n",
       "\n",
       "    .dataframe thead th {\n",
       "        text-align: right;\n",
       "    }\n",
       "</style>\n",
       "<table border=\"1\" class=\"dataframe\">\n",
       "  <thead>\n",
       "    <tr style=\"text-align: right;\">\n",
       "      <th></th>\n",
       "      <th>abstract</th>\n",
       "      <th>authors</th>\n",
       "      <th>chemicals</th>\n",
       "      <th>citation_ids</th>\n",
       "      <th>clinical_trials</th>\n",
       "      <th>date_published</th>\n",
       "      <th>fields_of_study</th>\n",
       "      <th>funding</th>\n",
       "      <th>issue</th>\n",
       "      <th>journal</th>\n",
       "      <th>...</th>\n",
       "      <th>publication_supplementary_type</th>\n",
       "      <th>publication_type</th>\n",
       "      <th>record_lens_id</th>\n",
       "      <th>referenced_by_count</th>\n",
       "      <th>referenced_by_patent_count</th>\n",
       "      <th>references</th>\n",
       "      <th>source_urls</th>\n",
       "      <th>title</th>\n",
       "      <th>volume</th>\n",
       "      <th>year_published</th>\n",
       "    </tr>\n",
       "  </thead>\n",
       "  <tbody>\n",
       "    <tr>\n",
       "      <th>0</th>\n",
       "      <td>Stainless steel has been frequently used for t...</td>\n",
       "      <td>[{'affiliations': [{'name_raw': 'University of...</td>\n",
       "      <td>[{'registry_number': '0', 'substance_name': 'C...</td>\n",
       "      <td>[{'value': '17122924', 'type': 'pmid'}, {'valu...</td>\n",
       "      <td>[]</td>\n",
       "      <td>2006-11-22T00:00:00+00:00</td>\n",
       "      <td>[{'id': None, 'name': 'Composite material', 's...</td>\n",
       "      <td>[]</td>\n",
       "      <td>11</td>\n",
       "      <td>{'title_full': 'Journal of Materials Science: ...</td>\n",
       "      <td>...</td>\n",
       "      <td>[research support, non-u.s. gov't]</td>\n",
       "      <td>journal article</td>\n",
       "      <td>000-007-853-017-579</td>\n",
       "      <td>9</td>\n",
       "      <td>0</td>\n",
       "      <td>[{'lens_id': 269340095748}, {'lens_id': 554471...</td>\n",
       "      <td>[{'type': 'html', 'url': 'https://link.springe...</td>\n",
       "      <td>Cytotoxicity study of plasma-sprayed hydroxyap...</td>\n",
       "      <td>17</td>\n",
       "      <td>2006</td>\n",
       "    </tr>\n",
       "    <tr>\n",
       "      <th>1</th>\n",
       "      <td>Speech disorders are among the most common sym...</td>\n",
       "      <td>[{'affiliations': [{'name_raw': 'Universidad d...</td>\n",
       "      <td>[]</td>\n",
       "      <td>[{'value': 'mag2739944706', 'type': 'magid'}, ...</td>\n",
       "      <td>[]</td>\n",
       "      <td>2017-08-27T00:00:00+00:00</td>\n",
       "      <td>[{'id': None, 'name': 'Czech', 'similarity': 0...</td>\n",
       "      <td>[]</td>\n",
       "      <td>None</td>\n",
       "      <td>{'title_full': 'Text, Speech, and Dialogue', '...</td>\n",
       "      <td>...</td>\n",
       "      <td>[]</td>\n",
       "      <td>conference proceedings</td>\n",
       "      <td>000-012-385-217-540</td>\n",
       "      <td>1</td>\n",
       "      <td>0</td>\n",
       "      <td>[{'lens_id': 11621625958}, {'lens_id': 9583187...</td>\n",
       "      <td>[{'type': 'html', 'url': 'http://dblp.uni-trie...</td>\n",
       "      <td>TSD - Language Independent Assessment of Motor...</td>\n",
       "      <td>None</td>\n",
       "      <td>2017</td>\n",
       "    </tr>\n",
       "    <tr>\n",
       "      <th>2</th>\n",
       "      <td>None</td>\n",
       "      <td>[{'affiliations': [{'name_raw': 'Universidad d...</td>\n",
       "      <td>[]</td>\n",
       "      <td>[{'value': 'mag2307874066', 'type': 'magid'}]</td>\n",
       "      <td>[]</td>\n",
       "      <td>1999-01-01T00:00:00+00:00</td>\n",
       "      <td>[{'id': None, 'name': 'Philosophy', 'similarit...</td>\n",
       "      <td>[]</td>\n",
       "      <td>89</td>\n",
       "      <td>NaN</td>\n",
       "      <td>...</td>\n",
       "      <td>[]</td>\n",
       "      <td>None</td>\n",
       "      <td>000-012-800-591-40X</td>\n",
       "      <td>0</td>\n",
       "      <td>0</td>\n",
       "      <td>[]</td>\n",
       "      <td>[{'type': 'html', 'url': 'https://biblat.unam....</td>\n",
       "      <td>Actividad de las enzimas ligninolíticas del Ph...</td>\n",
       "      <td>23</td>\n",
       "      <td>1999</td>\n",
       "    </tr>\n",
       "  </tbody>\n",
       "</table>\n",
       "<p>3 rows × 25 columns</p>\n",
       "</div>"
      ],
      "text/plain": [
       "                                            abstract  \\\n",
       "0  Stainless steel has been frequently used for t...   \n",
       "1  Speech disorders are among the most common sym...   \n",
       "2                                               None   \n",
       "\n",
       "                                             authors  \\\n",
       "0  [{'affiliations': [{'name_raw': 'University of...   \n",
       "1  [{'affiliations': [{'name_raw': 'Universidad d...   \n",
       "2  [{'affiliations': [{'name_raw': 'Universidad d...   \n",
       "\n",
       "                                           chemicals  \\\n",
       "0  [{'registry_number': '0', 'substance_name': 'C...   \n",
       "1                                                 []   \n",
       "2                                                 []   \n",
       "\n",
       "                                        citation_ids clinical_trials  \\\n",
       "0  [{'value': '17122924', 'type': 'pmid'}, {'valu...              []   \n",
       "1  [{'value': 'mag2739944706', 'type': 'magid'}, ...              []   \n",
       "2      [{'value': 'mag2307874066', 'type': 'magid'}]              []   \n",
       "\n",
       "              date_published  \\\n",
       "0  2006-11-22T00:00:00+00:00   \n",
       "1  2017-08-27T00:00:00+00:00   \n",
       "2  1999-01-01T00:00:00+00:00   \n",
       "\n",
       "                                     fields_of_study funding issue  \\\n",
       "0  [{'id': None, 'name': 'Composite material', 's...      []    11   \n",
       "1  [{'id': None, 'name': 'Czech', 'similarity': 0...      []  None   \n",
       "2  [{'id': None, 'name': 'Philosophy', 'similarit...      []    89   \n",
       "\n",
       "                                             journal       ...        \\\n",
       "0  {'title_full': 'Journal of Materials Science: ...       ...         \n",
       "1  {'title_full': 'Text, Speech, and Dialogue', '...       ...         \n",
       "2                                                NaN       ...         \n",
       "\n",
       "       publication_supplementary_type        publication_type  \\\n",
       "0  [research support, non-u.s. gov't]         journal article   \n",
       "1                                  []  conference proceedings   \n",
       "2                                  []                    None   \n",
       "\n",
       "        record_lens_id referenced_by_count referenced_by_patent_count  \\\n",
       "0  000-007-853-017-579                   9                          0   \n",
       "1  000-012-385-217-540                   1                          0   \n",
       "2  000-012-800-591-40X                   0                          0   \n",
       "\n",
       "                                          references  \\\n",
       "0  [{'lens_id': 269340095748}, {'lens_id': 554471...   \n",
       "1  [{'lens_id': 11621625958}, {'lens_id': 9583187...   \n",
       "2                                                 []   \n",
       "\n",
       "                                         source_urls  \\\n",
       "0  [{'type': 'html', 'url': 'https://link.springe...   \n",
       "1  [{'type': 'html', 'url': 'http://dblp.uni-trie...   \n",
       "2  [{'type': 'html', 'url': 'https://biblat.unam....   \n",
       "\n",
       "                                               title  volume  year_published  \n",
       "0  Cytotoxicity study of plasma-sprayed hydroxyap...      17            2006  \n",
       "1  TSD - Language Independent Assessment of Motor...    None            2017  \n",
       "2  Actividad de las enzimas ligninolíticas del Ph...      23            1999  \n",
       "\n",
       "[3 rows x 25 columns]"
      ]
     },
     "execution_count": 4,
     "metadata": {},
     "output_type": "execute_result"
    }
   ],
   "source": [
    "ln[:3]"
   ]
  },
  {
   "cell_type": "code",
   "execution_count": 20,
   "metadata": {},
   "outputs": [
    {
     "data": {
      "text/plain": [
       "[{'type': 'doi', 'value': '10.1007/978-0-85729-024-3_58'},\n",
       " {'type': 'magid', 'value': 'mag39991164'}]"
      ]
     },
     "execution_count": 20,
     "metadata": {},
     "output_type": "execute_result"
    }
   ],
   "source": [
    "ln.citation_ids[12]"
   ]
  },
  {
   "cell_type": "code",
   "execution_count": 21,
   "metadata": {},
   "outputs": [
    {
     "data": {
      "text/plain": [
       "'ISPE CE - Context Model for Testing Analysis Phase of Information Systems'"
      ]
     },
     "execution_count": 21,
     "metadata": {},
     "output_type": "execute_result"
    }
   ],
   "source": [
    "ln.title[12]"
   ]
  },
  {
   "cell_type": "code",
   "execution_count": 24,
   "metadata": {},
   "outputs": [
    {
     "data": {
      "text/plain": [
       "[{'lens_id': 1461871797126},\n",
       " {'lens_id': 3475226897286},\n",
       " {'lens_id': 5219935375808},\n",
       " {'lens_id': 6138891563925},\n",
       " {'lens_id': 6457769243819},\n",
       " {'lens_id': 7847830510193},\n",
       " {'lens_id': 9309225081657},\n",
       " {'lens_id': 9496614371740},\n",
       " {'lens_id': 11466114976775},\n",
       " {'lens_id': 19469456393751}]"
      ]
     },
     "execution_count": 24,
     "metadata": {},
     "output_type": "execute_result"
    }
   ],
   "source": [
    "ln.references[12]"
   ]
  },
  {
   "cell_type": "code",
   "execution_count": 18,
   "metadata": {},
   "outputs": [
    {
     "data": {
      "text/html": [
       "<div>\n",
       "<style scoped>\n",
       "    .dataframe tbody tr th:only-of-type {\n",
       "        vertical-align: middle;\n",
       "    }\n",
       "\n",
       "    .dataframe tbody tr th {\n",
       "        vertical-align: top;\n",
       "    }\n",
       "\n",
       "    .dataframe thead th {\n",
       "        text-align: right;\n",
       "    }\n",
       "</style>\n",
       "<table border=\"1\" class=\"dataframe\">\n",
       "  <thead>\n",
       "    <tr style=\"text-align: right;\">\n",
       "      <th></th>\n",
       "      <th>abstract</th>\n",
       "      <th>authors</th>\n",
       "      <th>chemicals</th>\n",
       "      <th>citation_ids</th>\n",
       "      <th>clinical_trials</th>\n",
       "      <th>date_published</th>\n",
       "      <th>fields_of_study</th>\n",
       "      <th>funding</th>\n",
       "      <th>issue</th>\n",
       "      <th>journal</th>\n",
       "      <th>...</th>\n",
       "      <th>publication_supplementary_type</th>\n",
       "      <th>publication_type</th>\n",
       "      <th>record_lens_id</th>\n",
       "      <th>referenced_by_count</th>\n",
       "      <th>referenced_by_patent_count</th>\n",
       "      <th>references</th>\n",
       "      <th>source_urls</th>\n",
       "      <th>title</th>\n",
       "      <th>volume</th>\n",
       "      <th>year_published</th>\n",
       "    </tr>\n",
       "  </thead>\n",
       "  <tbody>\n",
       "  </tbody>\n",
       "</table>\n",
       "<p>0 rows × 25 columns</p>\n",
       "</div>"
      ],
      "text/plain": [
       "Empty DataFrame\n",
       "Columns: [abstract, authors, chemicals, citation_ids, clinical_trials, date_published, fields_of_study, funding, issue, journal, keywords, languages, mesh_terms, pages_end, pages_start, publication_supplementary_type, publication_type, record_lens_id, referenced_by_count, referenced_by_patent_count, references, source_urls, title, volume, year_published]\n",
       "Index: []\n",
       "\n",
       "[0 rows x 25 columns]"
      ]
     },
     "execution_count": 18,
     "metadata": {},
     "output_type": "execute_result"
    }
   ],
   "source": [
    "ln[ln.record_lens_id.str.contains('269-340-095-748')]"
   ]
  },
  {
   "cell_type": "code",
   "execution_count": 14,
   "metadata": {},
   "outputs": [
    {
     "data": {
      "text/plain": [
       "{'addresses': [{'city': 'Medellín',\n",
       "   'country_code': 'CO',\n",
       "   'lat': 6.267417,\n",
       "   'lon': -75.568389,\n",
       "   'state_code': ''}],\n",
       " 'email_address': None,\n",
       " 'id': 'grid.412881.6',\n",
       " 'links': ['http://www.udea.edu.co/portal/page/portal/EnglishPortal/EnglishPortal'],\n",
       " 'name': 'University of Antioquia',\n",
       " 'status': 'active',\n",
       " 'types': ['Education'],\n",
       " 'wikipedia_url': 'http://en.wikipedia.org/wiki/University_of_Antioquia'}"
      ]
     },
     "execution_count": 14,
     "metadata": {},
     "output_type": "execute_result"
    }
   ],
   "source": [
    "pd.DataFrame( pd.DataFrame( ln.authors[0] ).affiliations[0] ).grid[0]"
   ]
  },
  {
   "cell_type": "code",
   "execution_count": null,
   "metadata": {},
   "outputs": [],
   "source": []
  }
 ],
 "metadata": {
  "kernelspec": {
   "display_name": "Python 3",
   "language": "python",
   "name": "python3"
  },
  "language_info": {
   "codemirror_mode": {
    "name": "ipython",
    "version": 3
   },
   "file_extension": ".py",
   "mimetype": "text/x-python",
   "name": "python",
   "nbconvert_exporter": "python",
   "pygments_lexer": "ipython3",
   "version": "3.5.3"
  }
 },
 "nbformat": 4,
 "nbformat_minor": 2
}
