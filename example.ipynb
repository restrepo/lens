{
  "nbformat": 4,
  "nbformat_minor": 0,
  "metadata": {
    "colab": {
      "name": "example.ipynb",
      "version": "0.3.2",
      "provenance": [],
      "include_colab_link": true
    },
    "language_info": {
      "codemirror_mode": {
        "name": "ipython",
        "version": 3
      },
      "file_extension": ".py",
      "mimetype": "text/x-python",
      "name": "python",
      "nbconvert_exporter": "python",
      "pygments_lexer": "ipython3",
      "version": "3.7.2"
    },
    "kernelspec": {
      "display_name": "Python 3",
      "language": "python",
      "name": "python3"
    }
  },
  "cells": [
    {
      "cell_type": "markdown",
      "metadata": {
        "id": "view-in-github",
        "colab_type": "text"
      },
      "source": [
        "<a href=\"https://colab.research.google.com/github/restrepo/lens/blob/master/example.ipynb\" target=\"_parent\"><img src=\"https://colab.research.google.com/assets/colab-badge.svg\" alt=\"Open In Colab\"/></a>"
      ]
    },
    {
      "cell_type": "markdown",
      "metadata": {
        "id": "tJ5RsUi2PNPN",
        "colab_type": "text"
      },
      "source": [
        "# Lens\n",
        "Example of lens search. Check aginst:\n",
        "\n",
        "https://www.lens.org/lens/scholar/search/results?q=lens_id:009-947-141-343-381"
      ]
    },
    {
      "cell_type": "code",
      "metadata": {
        "id": "E56vkhzpFQiY",
        "colab_type": "code",
        "colab": {}
      },
      "source": [
        "import pandas as pd"
      ],
      "execution_count": 0,
      "outputs": []
    },
    {
      "cell_type": "code",
      "metadata": {
        "id": "1KZ2AlcHFQid",
        "colab_type": "code",
        "colab": {}
      },
      "source": [
        "ln=pd.read_json('https://raw.githubusercontent.com/restrepo/lens/master/data/lens.json') "
      ],
      "execution_count": 0,
      "outputs": []
    },
    {
      "cell_type": "code",
      "metadata": {
        "scrolled": true,
        "id": "RMGd3OcPFQif",
        "colab_type": "code",
        "outputId": "b8e31f83-917a-4f2a-ea8c-a9d9b56667e0",
        "colab": {
          "base_uri": "https://localhost:8080/",
          "height": 143
        }
      },
      "source": [
        "ln.columns"
      ],
      "execution_count": 3,
      "outputs": [
        {
          "output_type": "execute_result",
          "data": {
            "text/plain": [
              "Index(['_id', 'abstract', 'authors', 'chemicals', 'citation_ids',\n",
              "       'clinical_trials', 'date_published', 'fields_of_study', 'funding',\n",
              "       'issue', 'journal', 'keywords', 'languages', 'mesh_terms', 'pages_end',\n",
              "       'pages_start', 'publication_supplementary_type', 'publication_type',\n",
              "       'record_lens_id', 'referenced_by_count', 'referenced_by_patent_count',\n",
              "       'references', 'source_urls', 'title', 'volume', 'year_published'],\n",
              "      dtype='object')"
            ]
          },
          "metadata": {
            "tags": []
          },
          "execution_count": 3
        }
      ]
    },
    {
      "cell_type": "markdown",
      "metadata": {
        "id": "ohkGI1Mvg8zU",
        "colab_type": "text"
      },
      "source": [
        "## Explanation of each columns and its several parts\n",
        "Nested jsons are extracted as new columns if necessary, e.g DOIs, etc"
      ]
    },
    {
      "cell_type": "code",
      "metadata": {
        "id": "-zllOPb7hMjt",
        "colab_type": "code",
        "colab": {}
      },
      "source": [
        "i=0"
      ],
      "execution_count": 0,
      "outputs": []
    },
    {
      "cell_type": "markdown",
      "metadata": {
        "id": "kL11sRc6UN0j",
        "colab_type": "text"
      },
      "source": [
        "Article identification in several data bases:"
      ]
    },
    {
      "cell_type": "code",
      "metadata": {
        "id": "lJ2qDmteFQii",
        "colab_type": "code",
        "outputId": "6dd80833-525f-40df-b28a-c098d9b3b4bb",
        "colab": {
          "base_uri": "https://localhost:8080/",
          "height": 53
        }
      },
      "source": [
        "ln.citation_ids.apply(len)"
      ],
      "execution_count": 4,
      "outputs": [
        {
          "output_type": "execute_result",
          "data": {
            "text/plain": [
              "0    3\n",
              "Name: citation_ids, dtype: int64"
            ]
          },
          "metadata": {
            "tags": []
          },
          "execution_count": 4
        }
      ]
    },
    {
      "cell_type": "code",
      "metadata": {
        "id": "OMROJW31fYWY",
        "colab_type": "code",
        "colab": {
          "base_uri": "https://localhost:8080/",
          "height": 71
        },
        "outputId": "be863615-0d88-4bb8-ea7d-e509d17df3d4"
      },
      "source": [
        "ln.citation_ids[0]"
      ],
      "execution_count": 8,
      "outputs": [
        {
          "output_type": "execute_result",
          "data": {
            "text/plain": [
              "[{'type': 'core', 'value': 'core45448247'},\n",
              " {'type': 'doi', 'value': '10.1103/physrevd.93.015012'},\n",
              " {'type': 'magid', 'value': 'mag2270814667'}]"
            ]
          },
          "metadata": {
            "tags": []
          },
          "execution_count": 8
        }
      ]
    },
    {
      "cell_type": "code",
      "metadata": {
        "id": "aLavlfkiFQil",
        "colab_type": "code",
        "colab": {}
      },
      "source": [
        "ln['magid']=ln.citation_ids.apply(lambda x: [y.get('value') for y in x if y.get('type')=='magid']).str[0]\n",
        "ln['doi']=ln.citation_ids.apply(lambda x: [y.get('value') for y in x if y.get('type')=='doi']).str[0]\n",
        "ln['core']=ln.citation_ids.apply(lambda x: [y.get('value') for y in x if y.get('type')=='core']).str[0]"
      ],
      "execution_count": 0,
      "outputs": []
    },
    {
      "cell_type": "code",
      "metadata": {
        "id": "41IAQ790U6KU",
        "colab_type": "code",
        "colab": {
          "base_uri": "https://localhost:8080/",
          "height": 71
        },
        "outputId": "9b4059d3-e76f-4cb0-fe51-3a697a4ae2d4"
      },
      "source": [
        "\n",
        "magid=ln.fillna('').loc[i,'magid'].split('mag')[-1]\n",
        "doi=ln.fillna('').loc[i,'doi']\n",
        "core=ln.fillna('').loc[i,'core']\n",
        "if magid:\n",
        "    print('Microsoft academic link for article: https://academic.microsoft.com/#/detail/{}'.format(magid))\n",
        "if doi:\n",
        "    print('DOI:                                 https://oadoi.org/{}'.format(doi))\n",
        "if doi:\n",
        "    print('core:                                https://core.ac.uk/display/{}'.format(core))    "
      ],
      "execution_count": 20,
      "outputs": [
        {
          "output_type": "stream",
          "text": [
            "Microsoft academic link for article: https://academic.microsoft.com/#/detail/2270814667\n",
            "DOI:                                 https://oadoi.org/10.1103/physrevd.93.015012\n",
            "core:                                https://core.ac.uk/display/core45448247\n"
          ],
          "name": "stdout"
        }
      ]
    },
    {
      "cell_type": "markdown",
      "metadata": {
        "id": "QgMtZAFBgiUE",
        "colab_type": "text"
      },
      "source": [
        "Scholarly Citations:"
      ]
    },
    {
      "cell_type": "code",
      "metadata": {
        "id": "dxoBrNIMFQip",
        "colab_type": "code",
        "outputId": "f1298921-9cdd-46cc-b17c-7c97233dff14",
        "colab": {
          "base_uri": "https://localhost:8080/",
          "height": 35
        }
      },
      "source": [
        "ln.loc[i,'referenced_by_count']"
      ],
      "execution_count": 24,
      "outputs": [
        {
          "output_type": "execute_result",
          "data": {
            "text/plain": [
              "14"
            ]
          },
          "metadata": {
            "tags": []
          },
          "execution_count": 24
        }
      ]
    },
    {
      "cell_type": "markdown",
      "metadata": {
        "id": "Cg5T5S87gyIs",
        "colab_type": "text"
      },
      "source": [
        "Patent Citations"
      ]
    },
    {
      "cell_type": "code",
      "metadata": {
        "id": "YxwVRto_FQis",
        "colab_type": "code",
        "outputId": "73a136db-fa4e-4e6c-f3ad-eb95fa18862c",
        "colab": {
          "base_uri": "https://localhost:8080/",
          "height": 35
        }
      },
      "source": [
        "ln.loc[i,'referenced_by_patent_count']"
      ],
      "execution_count": 25,
      "outputs": [
        {
          "output_type": "execute_result",
          "data": {
            "text/plain": [
              "0"
            ]
          },
          "metadata": {
            "tags": []
          },
          "execution_count": 25
        }
      ]
    },
    {
      "cell_type": "code",
      "metadata": {
        "id": "joPNYODXFQiw",
        "colab_type": "code",
        "outputId": "1a2f9813-94a5-46db-bf44-31205fa4fe5e",
        "colab": {
          "base_uri": "https://localhost:8080/",
          "height": 1115
        }
      },
      "source": [
        "ln.loc[i,'references']"
      ],
      "execution_count": 27,
      "outputs": [
        {
          "output_type": "execute_result",
          "data": {
            "text/plain": [
              "[{'lens_id': 157243461017},\n",
              " {'lens_id': 511908356197},\n",
              " {'lens_id': 554765889905},\n",
              " {'lens_id': 625262539586},\n",
              " {'lens_id': 656423764547},\n",
              " {'lens_id': 1326319377136},\n",
              " {'lens_id': 1514844071549},\n",
              " {'lens_id': 2493872779822},\n",
              " {'lens_id': 2494092339066},\n",
              " {'lens_id': 2566123636854},\n",
              " {'lens_id': 2825915349771},\n",
              " {'lens_id': 3277397450819},\n",
              " {'lens_id': 3498731332786},\n",
              " {'lens_id': 3596585624382},\n",
              " {'lens_id': 3610408284260},\n",
              " {'lens_id': 3637284790067},\n",
              " {'lens_id': 3759492979011},\n",
              " {'lens_id': 4081061587669},\n",
              " {'lens_id': 4131186365653},\n",
              " {'lens_id': 4231001148730},\n",
              " {'lens_id': 4807770246664},\n",
              " {'lens_id': 4828167432673},\n",
              " {'lens_id': 4836482296561},\n",
              " {'lens_id': 5007459714612},\n",
              " {'lens_id': 5141667571468},\n",
              " {'lens_id': 5568654687238},\n",
              " {'lens_id': 5723578187014},\n",
              " {'lens_id': 5776840922724},\n",
              " {'lens_id': 6191093647811},\n",
              " {'lens_id': 6400858984624},\n",
              " {'lens_id': 6600218844479},\n",
              " {'lens_id': 6692074167290},\n",
              " {'lens_id': 6918307828900},\n",
              " {'lens_id': 7006910898580},\n",
              " {'lens_id': 7436540072840},\n",
              " {'lens_id': 7501771852096},\n",
              " {'lens_id': 7891385366407},\n",
              " {'lens_id': 8016770251570},\n",
              " {'lens_id': 8453976553699},\n",
              " {'lens_id': 8596381653830},\n",
              " {'lens_id': 8791543867614},\n",
              " {'lens_id': 8854474249186},\n",
              " {'lens_id': 9082202059294},\n",
              " {'lens_id': 10405165839412},\n",
              " {'lens_id': 10661974735108},\n",
              " {'lens_id': 11159553425379},\n",
              " {'lens_id': 11403894288560},\n",
              " {'lens_id': 11814138226568},\n",
              " {'lens_id': 11967194468175},\n",
              " {'lens_id': 12597070155648},\n",
              " {'lens_id': 13091077973788},\n",
              " {'lens_id': 13245780764745},\n",
              " {'lens_id': 14802714957867},\n",
              " {'lens_id': 14884627288280},\n",
              " {'lens_id': 15066442161849},\n",
              " {'lens_id': 15118343367846},\n",
              " {'lens_id': 16003025286982},\n",
              " {'lens_id': 16023338847630},\n",
              " {'lens_id': 17061093408210},\n",
              " {'lens_id': 17136492797807},\n",
              " {'lens_id': 17679094074837}]"
            ]
          },
          "metadata": {
            "tags": []
          },
          "execution_count": 27
        }
      ]
    },
    {
      "cell_type": "code",
      "metadata": {
        "id": "EzU0wdszFQiz",
        "colab_type": "code",
        "outputId": "821bd16b-9190-48d3-c968-04d83806c20c",
        "colab": {
          "base_uri": "https://localhost:8080/",
          "height": 35
        }
      },
      "source": [
        "ln.loc[i,'record_lens_id']"
      ],
      "execution_count": 28,
      "outputs": [
        {
          "output_type": "execute_result",
          "data": {
            "text/plain": [
              "'034-341-431-911-594'"
            ]
          },
          "metadata": {
            "tags": []
          },
          "execution_count": 28
        }
      ]
    }
  ]
}