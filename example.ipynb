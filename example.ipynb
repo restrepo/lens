{
 "cells": [
  {
   "cell_type": "markdown",
   "metadata": {
    "colab_type": "text",
    "id": "view-in-github"
   },
   "source": [
    "<a href=\"https://colab.research.google.com/github/restrepo/lens/blob/master/example.ipynb\" target=\"_parent\"><img src=\"https://colab.research.google.com/assets/colab-badge.svg\" alt=\"Open In Colab\"/></a>"
   ]
  },
  {
   "cell_type": "markdown",
   "metadata": {
    "colab_type": "text",
    "id": "tJ5RsUi2PNPN"
   },
   "source": [
    "# Lens\n",
    "Example of lens search. Check aginst:"
   ]
  },
  {
   "cell_type": "code",
   "execution_count": 38,
   "metadata": {
    "colab": {
     "base_uri": "https://localhost:8080/",
     "height": 35
    },
    "colab_type": "code",
    "id": "aJ60TwdGh7_b",
    "outputId": "587376c9-a548-4843-f01f-4baf2dcf7a2b"
   },
   "outputs": [
    {
     "name": "stdout",
     "output_type": "stream",
     "text": [
      "https://www.lens.org/lens/scholar/search/results?q=lens_id:024-307-056-731-628\n"
     ]
    }
   ],
   "source": [
    "#lens_id='034-341-431-911-594'\n",
    "lens_id='024-307-056-731-628'#'034-341-431-911-594'\n",
    "print('https://www.lens.org/lens/scholar/search/results?q=lens_id:{}'.format(lens_id))"
   ]
  },
  {
   "cell_type": "code",
   "execution_count": 2,
   "metadata": {
    "colab": {},
    "colab_type": "code",
    "id": "E56vkhzpFQiY"
   },
   "outputs": [],
   "source": [
    "import pandas as pd"
   ]
  },
  {
   "cell_type": "code",
   "execution_count": 43,
   "metadata": {
    "colab": {},
    "colab_type": "code",
    "id": "1KZ2AlcHFQid"
   },
   "outputs": [],
   "source": [
    "ln=pd.read_json('https://raw.githubusercontent.com/restrepo/lens/master/data/lens_{}.json'.format(lens_id)) "
   ]
  },
  {
   "cell_type": "code",
   "execution_count": 44,
   "metadata": {
    "colab": {
     "base_uri": "https://localhost:8080/",
     "height": 143
    },
    "colab_type": "code",
    "id": "RMGd3OcPFQif",
    "outputId": "b8e31f83-917a-4f2a-ea8c-a9d9b56667e0",
    "scrolled": true
   },
   "outputs": [
    {
     "data": {
      "text/plain": [
       "Index(['_id', 'abstract', 'authors', 'chemicals', 'citation_ids',\n",
       "       'clinical_trials', 'date_published', 'fields_of_study', 'funding',\n",
       "       'issue', 'journal', 'keywords', 'languages', 'mesh_terms', 'pages_end',\n",
       "       'pages_start', 'publication_supplementary_type', 'publication_type',\n",
       "       'record_lens_id', 'referenced_by_count', 'referenced_by_patent_count',\n",
       "       'references', 'source_urls', 'title', 'volume', 'year_published'],\n",
       "      dtype='object')"
      ]
     },
     "execution_count": 44,
     "metadata": {},
     "output_type": "execute_result"
    }
   ],
   "source": [
    "ln.columns"
   ]
  },
  {
   "cell_type": "markdown",
   "metadata": {
    "colab_type": "text",
    "id": "ohkGI1Mvg8zU"
   },
   "source": [
    "## Explanation of each columns and its several parts\n",
    "Nested jsons are extracted as new columns if necessary, e.g DOIs, etc"
   ]
  },
  {
   "cell_type": "code",
   "execution_count": 45,
   "metadata": {
    "colab": {},
    "colab_type": "code",
    "id": "-zllOPb7hMjt"
   },
   "outputs": [],
   "source": [
    "i=0"
   ]
  },
  {
   "cell_type": "markdown",
   "metadata": {
    "colab_type": "text",
    "id": "kL11sRc6UN0j"
   },
   "source": [
    "### Article identification in several data bases:"
   ]
  },
  {
   "cell_type": "code",
   "execution_count": 112,
   "metadata": {},
   "outputs": [
    {
     "data": {
      "text/plain": [
       "0    2430705673162\n",
       "Name: _id, dtype: int64"
      ]
     },
     "execution_count": 112,
     "metadata": {},
     "output_type": "execute_result"
    }
   ],
   "source": [
    "ln['_id']"
   ]
  },
  {
   "cell_type": "code",
   "execution_count": 111,
   "metadata": {},
   "outputs": [
    {
     "data": {
      "text/plain": [
       "0    002-430-705-673-162-\n",
       "Name: _id, dtype: object"
      ]
     },
     "execution_count": 111,
     "metadata": {},
     "output_type": "execute_result"
    }
   ],
   "source": [
    "#https://stackoverflow.com/a/15164639/2268280\n",
    "ln['_id'].apply(lambda x: \"%015d\"%x).str.replace(r'([0-9]{3})',r'\\1-')"
   ]
  },
  {
   "cell_type": "code",
   "execution_count": 46,
   "metadata": {
    "colab": {
     "base_uri": "https://localhost:8080/",
     "height": 53
    },
    "colab_type": "code",
    "id": "lJ2qDmteFQii",
    "outputId": "6dd80833-525f-40df-b28a-c098d9b3b4bb"
   },
   "outputs": [
    {
     "data": {
      "text/plain": [
       "0    3\n",
       "Name: citation_ids, dtype: int64"
      ]
     },
     "execution_count": 46,
     "metadata": {},
     "output_type": "execute_result"
    }
   ],
   "source": [
    "ln.citation_ids.apply(len)"
   ]
  },
  {
   "cell_type": "code",
   "execution_count": 47,
   "metadata": {
    "colab": {
     "base_uri": "https://localhost:8080/",
     "height": 71
    },
    "colab_type": "code",
    "id": "OMROJW31fYWY",
    "outputId": "be863615-0d88-4bb8-ea7d-e509d17df3d4"
   },
   "outputs": [
    {
     "data": {
      "text/plain": [
       "[{'type': 'core', 'value': 'core81056650'},\n",
       " {'type': 'magid', 'value': 'mag1681839921'},\n",
       " {'type': 'doi', 'value': '10.1140/epjc/s10052-015-3733-x'}]"
      ]
     },
     "execution_count": 47,
     "metadata": {},
     "output_type": "execute_result"
    }
   ],
   "source": [
    "ln.citation_ids[0]"
   ]
  },
  {
   "cell_type": "code",
   "execution_count": 48,
   "metadata": {
    "colab": {},
    "colab_type": "code",
    "id": "aLavlfkiFQil"
   },
   "outputs": [],
   "source": [
    "ln['magid']=ln.citation_ids.apply(lambda x: [y.get('value') for y in x if y.get('type')=='magid']).str[0]\n",
    "ln['doi']=ln.citation_ids.apply(lambda x: [y.get('value') for y in x if y.get('type')=='doi']).str[0]\n",
    "ln['core']=ln.citation_ids.apply(lambda x: [y.get('value') for y in x if y.get('type')=='core']).str[0]"
   ]
  },
  {
   "cell_type": "code",
   "execution_count": 49,
   "metadata": {
    "colab": {
     "base_uri": "https://localhost:8080/",
     "height": 71
    },
    "colab_type": "code",
    "id": "41IAQ790U6KU",
    "outputId": "9b4059d3-e76f-4cb0-fe51-3a697a4ae2d4"
   },
   "outputs": [
    {
     "name": "stdout",
     "output_type": "stream",
     "text": [
      "Microsoft academic link for article: https://academic.microsoft.com/#/detail/1681839921\n",
      "DOI:                                 https://oadoi.org/10.1140/epjc/s10052-015-3733-x\n",
      "core:                                https://core.ac.uk/display/core81056650\n"
     ]
    }
   ],
   "source": [
    "magid=ln.fillna('').loc[i,'magid'].split('mag')[-1]\n",
    "doi=ln.fillna('').loc[i,'doi']\n",
    "core=ln.fillna('').loc[i,'core']\n",
    "if magid:\n",
    "    print('Microsoft academic link for article: https://academic.microsoft.com/#/detail/{}'.format(magid))\n",
    "if doi:\n",
    "    print('DOI:                                 https://oadoi.org/{}'.format(doi))\n",
    "if doi:\n",
    "    print('core:                                https://core.ac.uk/display/{}'.format(core))    "
   ]
  },
  {
   "cell_type": "markdown",
   "metadata": {
    "colab_type": "text",
    "id": "ai1jJZ0-k3go"
   },
   "source": [
    "### Authors"
   ]
  },
  {
   "cell_type": "code",
   "execution_count": 50,
   "metadata": {
    "colab": {
     "base_uri": "https://localhost:8080/",
     "height": 2051
    },
    "colab_type": "code",
    "id": "EWNHkFCdlJwo",
    "outputId": "946d1a4e-d406-4f09-847b-9af6fecf3b6f",
    "scrolled": true
   },
   "outputs": [
    {
     "data": {
      "text/plain": [
       "[{'affiliations': [{'grid': {'addresses': [{'city': 'Kyoto',\n",
       "       'country_code': 'JP',\n",
       "       'lat': 35.026156,\n",
       "       'lon': 135.779792,\n",
       "       'state_code': ''}],\n",
       "     'email_address': None,\n",
       "     'id': 'grid.258799.8',\n",
       "     'links': ['http://www.kyoto-u.ac.jp/en'],\n",
       "     'name': 'Kyoto University',\n",
       "     'status': 'active',\n",
       "     'types': ['Education'],\n",
       "     'wikipedia_url': 'http://en.wikipedia.org/wiki/Kyoto_University'},\n",
       "    'ids': [{'type': 'magid', 'value': 'mag22299242'},\n",
       "     {'type': 'grid', 'value': 'grid.258799.8'},\n",
       "     {'type': 'isni', 'value': '0000000403722033'},\n",
       "     {'type': 'fundref', 'value': '501100005683'},\n",
       "     {'type': 'fundref', 'value': '501100004094'},\n",
       "     {'type': 'fundref', 'value': '501100007695'},\n",
       "     {'type': 'fundref', 'value': '501100006086'},\n",
       "     {'type': 'fundref', 'value': '501100002917'},\n",
       "     {'type': 'orgref', 'value': '187911'},\n",
       "     {'type': 'wikidata', 'value': 'q336264'}],\n",
       "    'name': 'Kyoto University',\n",
       "    'name_raw': 'Universidad de Antioquia'},\n",
       "   {'grid': {'addresses': [{'city': 'Medellín',\n",
       "       'country_code': 'CO',\n",
       "       'lat': 6.267417,\n",
       "       'lon': -75.568389,\n",
       "       'state_code': ''}],\n",
       "     'email_address': None,\n",
       "     'id': 'grid.412881.6',\n",
       "     'links': ['http://www.udea.edu.co/portal/page/portal/EnglishPortal/EnglishPortal'],\n",
       "     'name': 'University of Antioquia',\n",
       "     'status': 'active',\n",
       "     'types': ['Education'],\n",
       "     'wikipedia_url': 'http://en.wikipedia.org/wiki/University_of_Antioquia'},\n",
       "    'ids': [{'type': 'magid', 'value': 'mag35961687'},\n",
       "     {'type': 'grid', 'value': 'grid.412881.6'},\n",
       "     {'type': 'isni', 'value': '0000000088825269'},\n",
       "     {'type': 'fundref', 'value': '501100005278'},\n",
       "     {'type': 'orgref', 'value': '2696975'},\n",
       "     {'type': 'wikidata', 'value': 'q1258413'}],\n",
       "    'name': 'University of Antioquia',\n",
       "    'name_raw': 'Universidad de Antioquia'}],\n",
       "  'collective_name': None,\n",
       "  'first_name': 'Alexander Gallego',\n",
       "  'ids': [{'type': 'magid', 'value': 'mag2145312720'}],\n",
       "  'initials': 'AG',\n",
       "  'is_personal': True,\n",
       "  'last_affiliation_id': {'type': 'magid', 'value': 'mag35961687'},\n",
       "  'last_name': 'Cadavid',\n",
       "  'seq': 1},\n",
       " {'affiliations': [{'grid': {'addresses': [{'city': 'Rethymno',\n",
       "       'country_code': 'GR',\n",
       "       'lat': 35.355229,\n",
       "       'lon': 24.450202,\n",
       "       'state_code': ''}],\n",
       "     'email_address': None,\n",
       "     'id': 'grid.8127.c',\n",
       "     'links': ['http://www.en.uoc.gr/'],\n",
       "     'name': 'University of Crete',\n",
       "     'status': 'active',\n",
       "     'types': ['Education'],\n",
       "     'wikipedia_url': 'http://en.wikipedia.org/wiki/University_of_Crete'},\n",
       "    'ids': [{'type': 'magid', 'value': 'mag142617266'},\n",
       "     {'type': 'grid', 'value': 'grid.8127.c'},\n",
       "     {'type': 'isni', 'value': '0000000405763437'},\n",
       "     {'type': 'fundref', 'value': '501100004429'},\n",
       "     {'type': 'orgref', 'value': '602461'},\n",
       "     {'type': 'wikidata', 'value': 'q2302473'}],\n",
       "    'name': 'University of Crete',\n",
       "    'name_raw': 'Universidad de Antioquia'},\n",
       "   {'grid': {'addresses': [{'city': 'Kyoto',\n",
       "       'country_code': 'JP',\n",
       "       'lat': 35.026156,\n",
       "       'lon': 135.779792,\n",
       "       'state_code': ''}],\n",
       "     'email_address': None,\n",
       "     'id': 'grid.258799.8',\n",
       "     'links': ['http://www.kyoto-u.ac.jp/en'],\n",
       "     'name': 'Kyoto University',\n",
       "     'status': 'active',\n",
       "     'types': ['Education'],\n",
       "     'wikipedia_url': 'http://en.wikipedia.org/wiki/Kyoto_University'},\n",
       "    'ids': [{'type': 'magid', 'value': 'mag22299242'},\n",
       "     {'type': 'grid', 'value': 'grid.258799.8'},\n",
       "     {'type': 'isni', 'value': '0000000403722033'},\n",
       "     {'type': 'fundref', 'value': '501100005683'},\n",
       "     {'type': 'fundref', 'value': '501100004094'},\n",
       "     {'type': 'fundref', 'value': '501100007695'},\n",
       "     {'type': 'fundref', 'value': '501100006086'},\n",
       "     {'type': 'fundref', 'value': '501100002917'},\n",
       "     {'type': 'orgref', 'value': '187911'},\n",
       "     {'type': 'wikidata', 'value': 'q336264'}],\n",
       "    'name': 'Kyoto University',\n",
       "    'name_raw': 'Universidad de Antioquia'},\n",
       "   {'grid': {'addresses': [{'city': 'Medellín',\n",
       "       'country_code': 'CO',\n",
       "       'lat': 6.267417,\n",
       "       'lon': -75.568389,\n",
       "       'state_code': ''}],\n",
       "     'email_address': None,\n",
       "     'id': 'grid.412881.6',\n",
       "     'links': ['http://www.udea.edu.co/portal/page/portal/EnglishPortal/EnglishPortal'],\n",
       "     'name': 'University of Antioquia',\n",
       "     'status': 'active',\n",
       "     'types': ['Education'],\n",
       "     'wikipedia_url': 'http://en.wikipedia.org/wiki/University_of_Antioquia'},\n",
       "    'ids': [{'type': 'magid', 'value': 'mag35961687'},\n",
       "     {'type': 'grid', 'value': 'grid.412881.6'},\n",
       "     {'type': 'isni', 'value': '0000000088825269'},\n",
       "     {'type': 'fundref', 'value': '501100005278'},\n",
       "     {'type': 'orgref', 'value': '2696975'},\n",
       "     {'type': 'wikidata', 'value': 'q1258413'}],\n",
       "    'name': 'University of Antioquia',\n",
       "    'name_raw': 'Universidad de Antioquia'}],\n",
       "  'collective_name': None,\n",
       "  'first_name': 'Antonio Enea',\n",
       "  'ids': [{'type': 'magid', 'value': 'mag2155816660'}],\n",
       "  'initials': 'AE',\n",
       "  'is_personal': True,\n",
       "  'last_affiliation_id': {'type': 'magid', 'value': 'mag35961687'},\n",
       "  'last_name': 'Romano',\n",
       "  'seq': 2}]"
      ]
     },
     "execution_count": 50,
     "metadata": {},
     "output_type": "execute_result"
    }
   ],
   "source": [
    "ln.loc[i,'authors']"
   ]
  },
  {
   "cell_type": "code",
   "execution_count": 51,
   "metadata": {
    "scrolled": true
   },
   "outputs": [],
   "source": [
    "ln['full_names']=ln['authors'].apply(lambda x: \n",
    "            [y.get('first_name')+' '+y.get('last_name') for y in x])"
   ]
  },
  {
   "cell_type": "code",
   "execution_count": 52,
   "metadata": {},
   "outputs": [
    {
     "data": {
      "text/plain": [
       "['Alexander Gallego Cadavid', 'Antonio Enea Romano']"
      ]
     },
     "execution_count": 52,
     "metadata": {},
     "output_type": "execute_result"
    }
   ],
   "source": [
    "ln.loc[i,'full_names']"
   ]
  },
  {
   "cell_type": "code",
   "execution_count": 53,
   "metadata": {
    "scrolled": true
   },
   "outputs": [],
   "source": [
    "ln['affiliations']=ln['authors'].apply(lambda x: \n",
    "    [y.get('affiliations') for y in x]).apply(\n",
    "    lambda x: [[z.get('name') for z in y] for y in x])"
   ]
  },
  {
   "cell_type": "code",
   "execution_count": 54,
   "metadata": {},
   "outputs": [
    {
     "data": {
      "text/plain": [
       "[['Kyoto University', 'University of Antioquia'],\n",
       " ['University of Crete', 'Kyoto University', 'University of Antioquia']]"
      ]
     },
     "execution_count": 54,
     "metadata": {},
     "output_type": "execute_result"
    }
   ],
   "source": [
    "ln.loc[i,'affiliations']"
   ]
  },
  {
   "cell_type": "code",
   "execution_count": 68,
   "metadata": {},
   "outputs": [],
   "source": [
    "ln['affiliations_details']=ln['authors'].apply(lambda x: \n",
    "    [y.get('affiliations') for y in x]).apply(\n",
    "    lambda x: [ [z.get('grid').get('addresses') for z in y] for y in x])"
   ]
  },
  {
   "cell_type": "code",
   "execution_count": 95,
   "metadata": {},
   "outputs": [],
   "source": [
    "ln['affiliations_details_lat']=ln['affiliations_details'].apply(\n",
    "        lambda x: [ [[w.get('lat') for w in z] for z in y] for y in x])\n",
    "ln['affiliations_details_lon']=ln['affiliations_details'].apply(\n",
    "        lambda x: [ [[w.get('lon') for w in z] for z in y] for y in x])\n",
    "ln['affiliations_details_cc']=ln['affiliations_details'].apply(\n",
    "        lambda x: [ [[w.get('country_code') for w in z] for z in y] for y in x])"
   ]
  },
  {
   "cell_type": "code",
   "execution_count": 100,
   "metadata": {},
   "outputs": [
    {
     "data": {
      "text/plain": [
       "[[[{'city': 'Kyoto',\n",
       "    'country_code': 'JP',\n",
       "    'lat': 35.026156,\n",
       "    'lon': 135.779792,\n",
       "    'state_code': ''}],\n",
       "  [{'city': 'Medellín',\n",
       "    'country_code': 'CO',\n",
       "    'lat': 6.267417,\n",
       "    'lon': -75.568389,\n",
       "    'state_code': ''}]],\n",
       " [[{'city': 'Rethymno',\n",
       "    'country_code': 'GR',\n",
       "    'lat': 35.355229,\n",
       "    'lon': 24.450202,\n",
       "    'state_code': ''}],\n",
       "  [{'city': 'Kyoto',\n",
       "    'country_code': 'JP',\n",
       "    'lat': 35.026156,\n",
       "    'lon': 135.779792,\n",
       "    'state_code': ''}],\n",
       "  [{'city': 'Medellín',\n",
       "    'country_code': 'CO',\n",
       "    'lat': 6.267417,\n",
       "    'lon': -75.568389,\n",
       "    'state_code': ''}]]]"
      ]
     },
     "execution_count": 100,
     "metadata": {},
     "output_type": "execute_result"
    }
   ],
   "source": [
    "ln.loc[i,'affiliations_details']"
   ]
  },
  {
   "cell_type": "markdown",
   "metadata": {
    "colab_type": "text",
    "id": "QuTv3Uctk_1Q"
   },
   "source": [
    "### Citations"
   ]
  },
  {
   "cell_type": "markdown",
   "metadata": {
    "colab_type": "text",
    "id": "QgMtZAFBgiUE"
   },
   "source": [
    "Scholarly Citations:"
   ]
  },
  {
   "cell_type": "code",
   "execution_count": 24,
   "metadata": {
    "colab": {
     "base_uri": "https://localhost:8080/",
     "height": 35
    },
    "colab_type": "code",
    "id": "dxoBrNIMFQip",
    "outputId": "f1298921-9cdd-46cc-b17c-7c97233dff14"
   },
   "outputs": [
    {
     "data": {
      "text/plain": [
       "14"
      ]
     },
     "execution_count": 24,
     "metadata": {
      "tags": []
     },
     "output_type": "execute_result"
    }
   ],
   "source": [
    "ln.loc[i,'referenced_by_count']"
   ]
  },
  {
   "cell_type": "markdown",
   "metadata": {
    "colab_type": "text",
    "id": "Cg5T5S87gyIs"
   },
   "source": [
    "Patent Citations"
   ]
  },
  {
   "cell_type": "code",
   "execution_count": 25,
   "metadata": {
    "colab": {
     "base_uri": "https://localhost:8080/",
     "height": 35
    },
    "colab_type": "code",
    "id": "YxwVRto_FQis",
    "outputId": "73a136db-fa4e-4e6c-f3ad-eb95fa18862c"
   },
   "outputs": [
    {
     "data": {
      "text/plain": [
       "0"
      ]
     },
     "execution_count": 25,
     "metadata": {
      "tags": []
     },
     "output_type": "execute_result"
    }
   ],
   "source": [
    "ln.loc[i,'referenced_by_patent_count']"
   ]
  },
  {
   "cell_type": "markdown",
   "metadata": {
    "colab_type": "text",
    "id": "rTi8jz8zlDYI"
   },
   "source": [
    "### Self-explanatory fields"
   ]
  },
  {
   "cell_type": "code",
   "execution_count": 27,
   "metadata": {
    "colab": {
     "base_uri": "https://localhost:8080/",
     "height": 1115
    },
    "colab_type": "code",
    "id": "joPNYODXFQiw",
    "outputId": "1a2f9813-94a5-46db-bf44-31205fa4fe5e"
   },
   "outputs": [
    {
     "data": {
      "text/plain": [
       "[{'lens_id': 157243461017},\n",
       " {'lens_id': 511908356197},\n",
       " {'lens_id': 554765889905},\n",
       " {'lens_id': 625262539586},\n",
       " {'lens_id': 656423764547},\n",
       " {'lens_id': 1326319377136},\n",
       " {'lens_id': 1514844071549},\n",
       " {'lens_id': 2493872779822},\n",
       " {'lens_id': 2494092339066},\n",
       " {'lens_id': 2566123636854},\n",
       " {'lens_id': 2825915349771},\n",
       " {'lens_id': 3277397450819},\n",
       " {'lens_id': 3498731332786},\n",
       " {'lens_id': 3596585624382},\n",
       " {'lens_id': 3610408284260},\n",
       " {'lens_id': 3637284790067},\n",
       " {'lens_id': 3759492979011},\n",
       " {'lens_id': 4081061587669},\n",
       " {'lens_id': 4131186365653},\n",
       " {'lens_id': 4231001148730},\n",
       " {'lens_id': 4807770246664},\n",
       " {'lens_id': 4828167432673},\n",
       " {'lens_id': 4836482296561},\n",
       " {'lens_id': 5007459714612},\n",
       " {'lens_id': 5141667571468},\n",
       " {'lens_id': 5568654687238},\n",
       " {'lens_id': 5723578187014},\n",
       " {'lens_id': 5776840922724},\n",
       " {'lens_id': 6191093647811},\n",
       " {'lens_id': 6400858984624},\n",
       " {'lens_id': 6600218844479},\n",
       " {'lens_id': 6692074167290},\n",
       " {'lens_id': 6918307828900},\n",
       " {'lens_id': 7006910898580},\n",
       " {'lens_id': 7436540072840},\n",
       " {'lens_id': 7501771852096},\n",
       " {'lens_id': 7891385366407},\n",
       " {'lens_id': 8016770251570},\n",
       " {'lens_id': 8453976553699},\n",
       " {'lens_id': 8596381653830},\n",
       " {'lens_id': 8791543867614},\n",
       " {'lens_id': 8854474249186},\n",
       " {'lens_id': 9082202059294},\n",
       " {'lens_id': 10405165839412},\n",
       " {'lens_id': 10661974735108},\n",
       " {'lens_id': 11159553425379},\n",
       " {'lens_id': 11403894288560},\n",
       " {'lens_id': 11814138226568},\n",
       " {'lens_id': 11967194468175},\n",
       " {'lens_id': 12597070155648},\n",
       " {'lens_id': 13091077973788},\n",
       " {'lens_id': 13245780764745},\n",
       " {'lens_id': 14802714957867},\n",
       " {'lens_id': 14884627288280},\n",
       " {'lens_id': 15066442161849},\n",
       " {'lens_id': 15118343367846},\n",
       " {'lens_id': 16003025286982},\n",
       " {'lens_id': 16023338847630},\n",
       " {'lens_id': 17061093408210},\n",
       " {'lens_id': 17136492797807},\n",
       " {'lens_id': 17679094074837}]"
      ]
     },
     "execution_count": 27,
     "metadata": {
      "tags": []
     },
     "output_type": "execute_result"
    }
   ],
   "source": [
    "ln.loc[i,'references']"
   ]
  },
  {
   "cell_type": "code",
   "execution_count": 28,
   "metadata": {
    "colab": {
     "base_uri": "https://localhost:8080/",
     "height": 35
    },
    "colab_type": "code",
    "id": "EzU0wdszFQiz",
    "outputId": "821bd16b-9190-48d3-c968-04d83806c20c"
   },
   "outputs": [
    {
     "data": {
      "text/plain": [
       "'034-341-431-911-594'"
      ]
     },
     "execution_count": 28,
     "metadata": {
      "tags": []
     },
     "output_type": "execute_result"
    }
   ],
   "source": [
    "ln.loc[i,'record_lens_id']"
   ]
  }
 ],
 "metadata": {
  "colab": {
   "include_colab_link": true,
   "name": "example.ipynb",
   "provenance": [],
   "version": "0.3.2"
  },
  "kernelspec": {
   "display_name": "Python 3",
   "language": "python",
   "name": "python3"
  },
  "language_info": {
   "codemirror_mode": {
    "name": "ipython",
    "version": 3
   },
   "file_extension": ".py",
   "mimetype": "text/x-python",
   "name": "python",
   "nbconvert_exporter": "python",
   "pygments_lexer": "ipython3",
   "version": "3.5.3"
  }
 },
 "nbformat": 4,
 "nbformat_minor": 1
}
