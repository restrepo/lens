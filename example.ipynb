{
 "cells": [
  {
   "cell_type": "markdown",
   "metadata": {
    "colab_type": "text",
    "id": "view-in-github"
   },
   "source": [
    "<a href=\"https://colab.research.google.com/github/restrepo/lens/blob/master/example.ipynb\" target=\"_parent\"><img src=\"https://colab.research.google.com/assets/colab-badge.svg\" alt=\"Open In Colab\"/></a>"
   ]
  },
  {
   "cell_type": "markdown",
   "metadata": {
    "colab_type": "text",
    "id": "tJ5RsUi2PNPN"
   },
   "source": [
    "# Lens\n",
    "Example of lens search. Check aginst:"
   ]
  },
  {
   "cell_type": "code",
   "execution_count": 172,
   "metadata": {
    "colab": {
     "base_uri": "https://localhost:8080/",
     "height": 35
    },
    "colab_type": "code",
    "id": "aJ60TwdGh7_b",
    "outputId": "587376c9-a548-4843-f01f-4baf2dcf7a2b"
   },
   "outputs": [
    {
     "name": "stdout",
     "output_type": "stream",
     "text": [
      "https://www.lens.org/lens/scholar/search/results?q=lens_id:034-341-431-911-594\n"
     ]
    }
   ],
   "source": [
    "lens_id='034-341-431-911-594'#'024-307-056-731-628'\n",
    "print('https://www.lens.org/lens/scholar/search/results?q=lens_id:{}'.format(lens_id))"
   ]
  },
  {
   "cell_type": "code",
   "execution_count": 173,
   "metadata": {
    "colab": {},
    "colab_type": "code",
    "id": "E56vkhzpFQiY"
   },
   "outputs": [],
   "source": [
    "import pandas as pd"
   ]
  },
  {
   "cell_type": "code",
   "execution_count": 174,
   "metadata": {
    "colab": {},
    "colab_type": "code",
    "id": "1KZ2AlcHFQid"
   },
   "outputs": [],
   "source": [
    "ln=pd.read_json('https://raw.githubusercontent.com/restrepo/lens/master/data/lens_{}.json'.format(lens_id)) "
   ]
  },
  {
   "cell_type": "code",
   "execution_count": 175,
   "metadata": {
    "colab": {
     "base_uri": "https://localhost:8080/",
     "height": 143
    },
    "colab_type": "code",
    "id": "RMGd3OcPFQif",
    "outputId": "b8e31f83-917a-4f2a-ea8c-a9d9b56667e0",
    "scrolled": true
   },
   "outputs": [
    {
     "data": {
      "text/plain": [
       "Index(['_id', 'abstract', 'authors', 'chemicals', 'citation_ids',\n",
       "       'clinical_trials', 'date_published', 'fields_of_study', 'funding',\n",
       "       'issue', 'journal', 'keywords', 'languages', 'mesh_terms', 'pages_end',\n",
       "       'pages_start', 'publication_supplementary_type', 'publication_type',\n",
       "       'record_lens_id', 'referenced_by_count', 'referenced_by_patent_count',\n",
       "       'references', 'source_urls', 'title', 'volume', 'year_published'],\n",
       "      dtype='object')"
      ]
     },
     "execution_count": 175,
     "metadata": {},
     "output_type": "execute_result"
    }
   ],
   "source": [
    "ln.columns"
   ]
  },
  {
   "cell_type": "markdown",
   "metadata": {
    "colab_type": "text",
    "id": "ohkGI1Mvg8zU"
   },
   "source": [
    "## Explanation of each columns and its several parts\n",
    "Nested jsons are extracted as new columns if necessary, e.g DOIs, etc"
   ]
  },
  {
   "cell_type": "code",
   "execution_count": 176,
   "metadata": {
    "colab": {},
    "colab_type": "code",
    "id": "-zllOPb7hMjt"
   },
   "outputs": [],
   "source": [
    "i=0"
   ]
  },
  {
   "cell_type": "markdown",
   "metadata": {
    "colab_type": "text",
    "id": "kL11sRc6UN0j"
   },
   "source": [
    "### Article identification in several data bases:"
   ]
  },
  {
   "cell_type": "markdown",
   "metadata": {},
   "source": [
    "lens identification number:"
   ]
  },
  {
   "cell_type": "code",
   "execution_count": 177,
   "metadata": {},
   "outputs": [
    {
     "data": {
      "text/plain": [
       "'034-341-431-911-594'"
      ]
     },
     "execution_count": 177,
     "metadata": {},
     "output_type": "execute_result"
    }
   ],
   "source": [
    "ln.loc[i,'record_lens_id']"
   ]
  },
  {
   "cell_type": "markdown",
   "metadata": {},
   "source": [
    "Also in \"_id\".\n",
    "Reported bug in json identifier: missing last number"
   ]
  },
  {
   "cell_type": "code",
   "execution_count": 178,
   "metadata": {},
   "outputs": [
    {
     "data": {
      "text/plain": [
       "0    034-341-431-911-59\n",
       "Name: _id, dtype: object"
      ]
     },
     "execution_count": 178,
     "metadata": {},
     "output_type": "execute_result"
    }
   ],
   "source": [
    "#https://stackoverflow.com/a/15164639/2268280\n",
    "ln['_id'].apply(lambda x: \"%014d\"%x).str.replace(r'([0-9]{3})',r'\\g<1>-')"
   ]
  },
  {
   "cell_type": "markdown",
   "metadata": {},
   "source": [
    "Other identification numbers"
   ]
  },
  {
   "cell_type": "code",
   "execution_count": 179,
   "metadata": {
    "colab": {
     "base_uri": "https://localhost:8080/",
     "height": 53
    },
    "colab_type": "code",
    "id": "lJ2qDmteFQii",
    "outputId": "6dd80833-525f-40df-b28a-c098d9b3b4bb"
   },
   "outputs": [
    {
     "data": {
      "text/plain": [
       "0    3\n",
       "Name: citation_ids, dtype: int64"
      ]
     },
     "execution_count": 179,
     "metadata": {},
     "output_type": "execute_result"
    }
   ],
   "source": [
    "ln.citation_ids.apply(len)"
   ]
  },
  {
   "cell_type": "code",
   "execution_count": 180,
   "metadata": {
    "colab": {
     "base_uri": "https://localhost:8080/",
     "height": 71
    },
    "colab_type": "code",
    "id": "OMROJW31fYWY",
    "outputId": "be863615-0d88-4bb8-ea7d-e509d17df3d4"
   },
   "outputs": [
    {
     "data": {
      "text/plain": [
       "[{'type': 'core', 'value': 'core45448247'},\n",
       " {'type': 'doi', 'value': '10.1103/physrevd.93.015012'},\n",
       " {'type': 'magid', 'value': 'mag2270814667'}]"
      ]
     },
     "execution_count": 180,
     "metadata": {},
     "output_type": "execute_result"
    }
   ],
   "source": [
    "ln.citation_ids[0]"
   ]
  },
  {
   "cell_type": "code",
   "execution_count": 220,
   "metadata": {
    "colab": {},
    "colab_type": "code",
    "id": "aLavlfkiFQil"
   },
   "outputs": [],
   "source": [
    "ln['magid']=ln.citation_ids.apply(lambda x: [y.get('value') for y in x if y.get('type')=='magid']).str[0]\n",
    "ln['doi']=ln.citation_ids.apply(lambda x: [y.get('value') for y in x if y.get('type')=='doi']).str[0]\n",
    "ln['core']=ln.citation_ids.apply(lambda x: [y.get('value') for y in x if y.get('type')=='core']).str[0]"
   ]
  },
  {
   "cell_type": "code",
   "execution_count": 221,
   "metadata": {
    "colab": {
     "base_uri": "https://localhost:8080/",
     "height": 71
    },
    "colab_type": "code",
    "id": "41IAQ790U6KU",
    "outputId": "9b4059d3-e76f-4cb0-fe51-3a697a4ae2d4"
   },
   "outputs": [
    {
     "name": "stdout",
     "output_type": "stream",
     "text": [
      "Microsoft academic link for article: https://academic.microsoft.com/#/detail/2270814667\n",
      "DOI:                                 https://oadoi.org/10.1103/physrevd.93.015012\n",
      "core:                                https://core.ac.uk/display/45448247\n"
     ]
    }
   ],
   "source": [
    "magid=ln.fillna('').loc[i,'magid'].split('mag')[-1]\n",
    "doi=ln.fillna('').loc[i,'doi']\n",
    "core=ln.fillna('').loc[i,'core'].split('core')[-1]\n",
    "if magid:\n",
    "    print('Microsoft academic link for article: https://academic.microsoft.com/#/detail/{}'.format(magid))\n",
    "if doi:\n",
    "    print('DOI:                                 https://oadoi.org/{}'.format(doi))\n",
    "if doi:\n",
    "    print('core:                                https://core.ac.uk/display/{}'.format(core))    "
   ]
  },
  {
   "cell_type": "markdown",
   "metadata": {},
   "source": [
    "### Open Access.\n",
    "Si existe el link a core, entonces el artículo es OpenAccess"
   ]
  },
  {
   "cell_type": "code",
   "execution_count": 222,
   "metadata": {},
   "outputs": [],
   "source": [
    "ln['Open_Access']=~ln['core'].isnull()"
   ]
  },
  {
   "cell_type": "code",
   "execution_count": 223,
   "metadata": {},
   "outputs": [
    {
     "data": {
      "text/plain": [
       "True"
      ]
     },
     "execution_count": 223,
     "metadata": {},
     "output_type": "execute_result"
    }
   ],
   "source": [
    "ln.loc[i,'Open_Access']"
   ]
  },
  {
   "cell_type": "markdown",
   "metadata": {
    "colab_type": "text",
    "id": "ai1jJZ0-k3go"
   },
   "source": [
    "### Authors"
   ]
  },
  {
   "cell_type": "code",
   "execution_count": 183,
   "metadata": {
    "colab": {
     "base_uri": "https://localhost:8080/",
     "height": 2051
    },
    "colab_type": "code",
    "id": "EWNHkFCdlJwo",
    "outputId": "946d1a4e-d406-4f09-847b-9af6fecf3b6f",
    "scrolled": true
   },
   "outputs": [
    {
     "data": {
      "text/plain": [
       "[{'affiliations': [{'grid': {'addresses': [{'city': 'Liège',\n",
       "       'country_code': 'BE',\n",
       "       'lat': 50.583291,\n",
       "       'lon': 5.5590530000000005,\n",
       "       'state_code': ''}],\n",
       "     'email_address': None,\n",
       "     'id': 'grid.4861.b',\n",
       "     'links': ['https://www.uliege.be/cms/c_8699436/fr/portail-uliege'],\n",
       "     'name': 'University of Liège',\n",
       "     'status': 'active',\n",
       "     'types': ['Education'],\n",
       "     'wikipedia_url': 'http://en.wikipedia.org/wiki/University_of_Li%C3%A8ge'},\n",
       "    'ids': [{'type': 'magid', 'value': 'mag157674565'},\n",
       "     {'type': 'grid', 'value': 'grid.4861.b'},\n",
       "     {'type': 'isni', 'value': '0000000108057253'},\n",
       "     {'type': 'fundref', 'value': '501100005627'},\n",
       "     {'type': 'fundref', 'value': '501100006673'},\n",
       "     {'type': 'orgref', 'value': '2273279'},\n",
       "     {'type': 'wikidata', 'value': 'q1334582'}],\n",
       "    'name': 'University of Liège',\n",
       "    'name_raw': \"Université de Liège > Département d'astrophys., géophysique et océanographie (AGO) > Inter. fondamentales en physique et astrophysique (IFPA) >\"}],\n",
       "  'collective_name': None,\n",
       "  'first_name': 'Diego Aristizabal',\n",
       "  'ids': [{'type': 'magid', 'value': 'mag2154486588'}],\n",
       "  'initials': 'DA',\n",
       "  'is_personal': True,\n",
       "  'last_affiliation_id': {'type': 'magid', 'value': 'mag157674565'},\n",
       "  'last_name': 'Sierra',\n",
       "  'seq': 1},\n",
       " {'affiliations': [{'grid': {'addresses': [{'city': 'Madrid',\n",
       "       'country_code': 'ES',\n",
       "       'lat': 40.595884,\n",
       "       'lon': -3.688175,\n",
       "       'state_code': ''}],\n",
       "     'email_address': None,\n",
       "     'id': 'grid.4711.3',\n",
       "     'links': ['http://www.csic.es/'],\n",
       "     'name': 'Spanish National Research Council',\n",
       "     'status': 'active',\n",
       "     'types': ['Government'],\n",
       "     'wikipedia_url': 'http://en.wikipedia.org/wiki/Spanish_National_Research_Council'},\n",
       "    'ids': [{'type': 'magid', 'value': 'mag134820265'},\n",
       "     {'type': 'grid', 'value': 'grid.4711.3'},\n",
       "     {'type': 'isni', 'value': '0000000121834846'},\n",
       "     {'type': 'fundref', 'value': '501100003339'},\n",
       "     {'type': 'orgref', 'value': '5195182'},\n",
       "     {'type': 'wikidata', 'value': 'q1024362'}],\n",
       "    'name': 'Spanish National Research Council',\n",
       "    'name_raw': 'Instituto de Fisica Cospuscular, CSIC >  >  >  >'}],\n",
       "  'collective_name': None,\n",
       "  'first_name': 'Avelino',\n",
       "  'ids': [{'type': 'magid', 'value': 'mag2648698060'}],\n",
       "  'initials': 'A',\n",
       "  'is_personal': True,\n",
       "  'last_affiliation_id': {'type': 'magid', 'value': 'mag134820265'},\n",
       "  'last_name': 'Vicente',\n",
       "  'seq': 2},\n",
       " {'affiliations': [{'grid': {'addresses': [{'city': 'Stockholm',\n",
       "       'country_code': 'SE',\n",
       "       'lat': 59.34748,\n",
       "       'lon': 18.073526,\n",
       "       'state_code': ''}],\n",
       "     'email_address': None,\n",
       "     'id': 'grid.5037.1',\n",
       "     'links': ['http://www.kth.se/en'],\n",
       "     'name': 'Royal Institute of Technology',\n",
       "     'status': 'active',\n",
       "     'types': ['Education'],\n",
       "     'wikipedia_url': 'http://en.wikipedia.org/wiki/Royal_Institute_of_Technology'},\n",
       "    'ids': [{'type': 'magid', 'value': 'mag86987016'},\n",
       "     {'type': 'grid', 'value': 'grid.5037.1'},\n",
       "     {'type': 'isni', 'value': '0000000121581746'},\n",
       "     {'type': 'fundref', 'value': '501100004270'},\n",
       "     {'type': 'orgref', 'value': '25609'},\n",
       "     {'type': 'wikidata', 'value': 'q854280'}],\n",
       "    'name': 'Royal Institute of Technology',\n",
       "    'name_raw': 'Royal Institute of Technology >  >  >  >'}],\n",
       "  'collective_name': None,\n",
       "  'first_name': 'Juan',\n",
       "  'ids': [{'type': 'magid', 'value': 'mag2303542187'}],\n",
       "  'initials': 'J',\n",
       "  'is_personal': True,\n",
       "  'last_affiliation_id': {'type': 'magid', 'value': 'mag86987016'},\n",
       "  'last_name': 'Herrero-Garcia',\n",
       "  'seq': 3},\n",
       " {'affiliations': [{'grid': {'addresses': [{'city': 'Medellín',\n",
       "       'country_code': 'CO',\n",
       "       'lat': 6.267417,\n",
       "       'lon': -75.568389,\n",
       "       'state_code': ''}],\n",
       "     'email_address': None,\n",
       "     'id': 'grid.412881.6',\n",
       "     'links': ['http://www.udea.edu.co/portal/page/portal/EnglishPortal/EnglishPortal'],\n",
       "     'name': 'University of Antioquia',\n",
       "     'status': 'active',\n",
       "     'types': ['Education'],\n",
       "     'wikipedia_url': 'http://en.wikipedia.org/wiki/University_of_Antioquia'},\n",
       "    'ids': [{'type': 'magid', 'value': 'mag35961687'},\n",
       "     {'type': 'grid', 'value': 'grid.412881.6'},\n",
       "     {'type': 'isni', 'value': '0000000088825269'},\n",
       "     {'type': 'fundref', 'value': '501100005278'},\n",
       "     {'type': 'orgref', 'value': '2696975'},\n",
       "     {'type': 'wikidata', 'value': 'q1258413'}],\n",
       "    'name': 'University of Antioquia',\n",
       "    'name_raw': 'Universidad de Antioquia > Fisica >  >  >'}],\n",
       "  'collective_name': None,\n",
       "  'first_name': 'Diego',\n",
       "  'ids': [{'type': 'magid', 'value': 'mag2306595523'}],\n",
       "  'initials': 'D',\n",
       "  'is_personal': True,\n",
       "  'last_affiliation_id': {'type': 'magid', 'value': 'mag35961687'},\n",
       "  'last_name': 'Restrepo',\n",
       "  'seq': 4}]"
      ]
     },
     "execution_count": 183,
     "metadata": {},
     "output_type": "execute_result"
    }
   ],
   "source": [
    "ln.loc[i,'authors']"
   ]
  },
  {
   "cell_type": "markdown",
   "metadata": {},
   "source": [
    "Full names"
   ]
  },
  {
   "cell_type": "code",
   "execution_count": 184,
   "metadata": {
    "scrolled": true
   },
   "outputs": [],
   "source": [
    "ln['full_names']=ln['authors'].apply(lambda x: \n",
    "            [y.get('first_name')+' '+y.get('last_name') for y in x])"
   ]
  },
  {
   "cell_type": "code",
   "execution_count": 185,
   "metadata": {},
   "outputs": [
    {
     "data": {
      "text/plain": [
       "['Diego Aristizabal Sierra',\n",
       " 'Avelino Vicente',\n",
       " 'Juan Herrero-Garcia',\n",
       " 'Diego Restrepo']"
      ]
     },
     "execution_count": 185,
     "metadata": {},
     "output_type": "execute_result"
    }
   ],
   "source": [
    "ln.loc[i,'full_names']"
   ]
  },
  {
   "cell_type": "markdown",
   "metadata": {},
   "source": [
    "Affilitions info. Each author can have several affiliations"
   ]
  },
  {
   "cell_type": "code",
   "execution_count": 186,
   "metadata": {
    "scrolled": true
   },
   "outputs": [],
   "source": [
    "ln['affiliations']=ln['authors'].apply(lambda x: \n",
    "    [y.get('affiliations') for y in x]).apply(\n",
    "    lambda x: [[z.get('name') for z in y] for y in x])"
   ]
  },
  {
   "cell_type": "code",
   "execution_count": 187,
   "metadata": {},
   "outputs": [
    {
     "data": {
      "text/plain": [
       "[['University of Liège'],\n",
       " ['Spanish National Research Council'],\n",
       " ['Royal Institute of Technology'],\n",
       " ['University of Antioquia']]"
      ]
     },
     "execution_count": 187,
     "metadata": {},
     "output_type": "execute_result"
    }
   ],
   "source": [
    "ln.loc[i,'affiliations']"
   ]
  },
  {
   "cell_type": "code",
   "execution_count": 188,
   "metadata": {},
   "outputs": [],
   "source": [
    "ln['affiliations_details']=ln['authors'].apply(lambda x: \n",
    "    [y.get('affiliations') for y in x]).apply(\n",
    "    lambda x: [ [z.get('grid').get('addresses') for z in y] for y in x])"
   ]
  },
  {
   "cell_type": "code",
   "execution_count": 189,
   "metadata": {},
   "outputs": [],
   "source": [
    "ln['affiliations_details_lat']=ln['affiliations_details'].apply(\n",
    "        lambda x: [ [[w.get('lat') for w in z] for z in y] for y in x])\n",
    "ln['affiliations_details_lon']=ln['affiliations_details'].apply(\n",
    "        lambda x: [ [[w.get('lon') for w in z] for z in y] for y in x])\n",
    "ln['affiliations_details_cc']=ln['affiliations_details'].apply(\n",
    "        lambda x: [ [[w.get('country_code') for w in z] for z in y] for y in x])"
   ]
  },
  {
   "cell_type": "markdown",
   "metadata": {},
   "source": [
    "Sample of Affiliations details"
   ]
  },
  {
   "cell_type": "code",
   "execution_count": 190,
   "metadata": {},
   "outputs": [
    {
     "data": {
      "text/plain": [
       "[{'city': 'Liège',\n",
       "  'country_code': 'BE',\n",
       "  'lat': 50.583291,\n",
       "  'lon': 5.5590530000000005,\n",
       "  'state_code': ''}]"
      ]
     },
     "execution_count": 190,
     "metadata": {},
     "output_type": "execute_result"
    }
   ],
   "source": [
    "ln.loc[i,'affiliations_details'][0][0]"
   ]
  },
  {
   "cell_type": "markdown",
   "metadata": {},
   "source": [
    "Extraction of relevant details"
   ]
  },
  {
   "cell_type": "code",
   "execution_count": 191,
   "metadata": {},
   "outputs": [
    {
     "data": {
      "text/plain": [
       "[[['BE']], [['ES']], [['SE']], [['CO']]]"
      ]
     },
     "execution_count": 191,
     "metadata": {},
     "output_type": "execute_result"
    }
   ],
   "source": [
    "ln.loc[i,'affiliations_details_cc']"
   ]
  },
  {
   "cell_type": "code",
   "execution_count": 192,
   "metadata": {},
   "outputs": [
    {
     "data": {
      "text/plain": [
       "[[[50.583291]], [[40.595884]], [[59.34748]], [[6.267417]]]"
      ]
     },
     "execution_count": 192,
     "metadata": {},
     "output_type": "execute_result"
    }
   ],
   "source": [
    "ln.loc[i,'affiliations_details_lat']"
   ]
  },
  {
   "cell_type": "code",
   "execution_count": 193,
   "metadata": {},
   "outputs": [
    {
     "data": {
      "text/plain": [
       "[[[5.5590530000000005]], [[-3.688175]], [[18.073526]], [[-75.568389]]]"
      ]
     },
     "execution_count": 193,
     "metadata": {},
     "output_type": "execute_result"
    }
   ],
   "source": [
    "ln.loc[i,'affiliations_details_lon']"
   ]
  },
  {
   "cell_type": "markdown",
   "metadata": {},
   "source": [
    "### Journal"
   ]
  },
  {
   "cell_type": "code",
   "execution_count": 194,
   "metadata": {},
   "outputs": [
    {
     "data": {
      "text/plain": [
       "{'country': 'United States',\n",
       " 'issn': [{'type': 'print', 'value': '24700010'},\n",
       "  {'type': 'electronic', 'value': '24700029'}],\n",
       " 'publisher': 'American Physical Society (APS)',\n",
       " 'title_full': 'Physical Review D'}"
      ]
     },
     "execution_count": 194,
     "metadata": {},
     "output_type": "execute_result"
    }
   ],
   "source": [
    "ln['journal'].loc[0]"
   ]
  },
  {
   "cell_type": "code",
   "execution_count": 195,
   "metadata": {},
   "outputs": [],
   "source": [
    "ln['journal_name']=ln['journal'].apply(lambda x: x.get('title_full') )\n",
    "ln['issn']=ln['journal'].apply(lambda x: x.get('issn') )\n",
    "ln['journal_country']=ln['journal'].apply(lambda x: x.get('country') )\n",
    "ln['publisher']=ln['journal'].apply(lambda x: x.get('publisher') )"
   ]
  },
  {
   "cell_type": "code",
   "execution_count": 196,
   "metadata": {},
   "outputs": [
    {
     "data": {
      "text/html": [
       "<div>\n",
       "<style scoped>\n",
       "    .dataframe tbody tr th:only-of-type {\n",
       "        vertical-align: middle;\n",
       "    }\n",
       "\n",
       "    .dataframe tbody tr th {\n",
       "        vertical-align: top;\n",
       "    }\n",
       "\n",
       "    .dataframe thead th {\n",
       "        text-align: right;\n",
       "    }\n",
       "</style>\n",
       "<table border=\"1\" class=\"dataframe\">\n",
       "  <thead>\n",
       "    <tr style=\"text-align: right;\">\n",
       "      <th></th>\n",
       "      <th>journal_name</th>\n",
       "      <th>issn</th>\n",
       "      <th>journal_country</th>\n",
       "      <th>publisher</th>\n",
       "    </tr>\n",
       "  </thead>\n",
       "  <tbody>\n",
       "    <tr>\n",
       "      <th>0</th>\n",
       "      <td>Physical Review D</td>\n",
       "      <td>[{'type': 'print', 'value': '24700010'}, {'typ...</td>\n",
       "      <td>United States</td>\n",
       "      <td>American Physical Society (APS)</td>\n",
       "    </tr>\n",
       "  </tbody>\n",
       "</table>\n",
       "</div>"
      ],
      "text/plain": [
       "        journal_name                                               issn  \\\n",
       "0  Physical Review D  [{'type': 'print', 'value': '24700010'}, {'typ...   \n",
       "\n",
       "  journal_country                        publisher  \n",
       "0   United States  American Physical Society (APS)  "
      ]
     },
     "execution_count": 196,
     "metadata": {},
     "output_type": "execute_result"
    }
   ],
   "source": [
    "ln[['journal_name','issn','journal_country','publisher']]"
   ]
  },
  {
   "cell_type": "markdown",
   "metadata": {
    "colab_type": "text",
    "id": "QuTv3Uctk_1Q"
   },
   "source": [
    "### Citations"
   ]
  },
  {
   "cell_type": "markdown",
   "metadata": {
    "colab_type": "text",
    "id": "QgMtZAFBgiUE"
   },
   "source": [
    "Scholarly Citations:"
   ]
  },
  {
   "cell_type": "code",
   "execution_count": 197,
   "metadata": {
    "colab": {
     "base_uri": "https://localhost:8080/",
     "height": 35
    },
    "colab_type": "code",
    "id": "dxoBrNIMFQip",
    "outputId": "f1298921-9cdd-46cc-b17c-7c97233dff14"
   },
   "outputs": [
    {
     "data": {
      "text/plain": [
       "14"
      ]
     },
     "execution_count": 197,
     "metadata": {},
     "output_type": "execute_result"
    }
   ],
   "source": [
    "ln.loc[i,'referenced_by_count']"
   ]
  },
  {
   "cell_type": "markdown",
   "metadata": {
    "colab_type": "text",
    "id": "Cg5T5S87gyIs"
   },
   "source": [
    "Patent Citations"
   ]
  },
  {
   "cell_type": "code",
   "execution_count": 198,
   "metadata": {
    "colab": {
     "base_uri": "https://localhost:8080/",
     "height": 35
    },
    "colab_type": "code",
    "id": "YxwVRto_FQis",
    "outputId": "73a136db-fa4e-4e6c-f3ad-eb95fa18862c"
   },
   "outputs": [
    {
     "data": {
      "text/plain": [
       "0"
      ]
     },
     "execution_count": 198,
     "metadata": {},
     "output_type": "execute_result"
    }
   ],
   "source": [
    "ln.loc[i,'referenced_by_patent_count']"
   ]
  },
  {
   "cell_type": "markdown",
   "metadata": {},
   "source": [
    "### Fields of study"
   ]
  },
  {
   "cell_type": "code",
   "execution_count": 199,
   "metadata": {},
   "outputs": [],
   "source": [
    "ln['fields_of_study_name']=ln['fields_of_study'].apply(lambda x: [y.get('name') for y in x])"
   ]
  },
  {
   "cell_type": "code",
   "execution_count": 200,
   "metadata": {},
   "outputs": [
    {
     "data": {
      "text/plain": [
       "['Particle physics',\n",
       " 'Quantum chromodynamics',\n",
       " 'Physics',\n",
       " 'Higgs boson',\n",
       " 'Physics beyond the Standard Model',\n",
       " 'Two-Higgs-doublet model',\n",
       " 'Z-channel',\n",
       " 'Quantum electrodynamics',\n",
       " 'Gauge boson',\n",
       " 'Standard Model',\n",
       " 'Large Hadron Collider']"
      ]
     },
     "execution_count": 200,
     "metadata": {},
     "output_type": "execute_result"
    }
   ],
   "source": [
    "ln.loc[i,'fields_of_study_name']"
   ]
  },
  {
   "cell_type": "markdown",
   "metadata": {},
   "source": [
    "### PDFs"
   ]
  },
  {
   "cell_type": "code",
   "execution_count": 201,
   "metadata": {},
   "outputs": [],
   "source": [
    "ln['PDFs']=ln['source_urls'].apply(lambda x: [y.get('url') for y in x if y.get('type')=='pdf'])"
   ]
  },
  {
   "cell_type": "code",
   "execution_count": 202,
   "metadata": {},
   "outputs": [],
   "source": [
    "ln['arXiv']=ln['source_urls'].apply(lambda x: [y.get('url') for y in x if y.get('type')=='pdf' \n",
    "                                   and y.get('url').find('arxiv.org')>=0]).str[0].str.replace(\n",
    "                           'http://arxiv.org/pdf/([0-9]+\\.[0-9]+).pdf','\\g<1>' )"
   ]
  },
  {
   "cell_type": "code",
   "execution_count": 203,
   "metadata": {},
   "outputs": [
    {
     "data": {
      "text/plain": [
       "['http://arxiv.org/pdf/1510.03437.pdf',\n",
       " 'http://digital.csic.es/bitstream/10261/131047/1/FPA2014-58183-P-Diboson.pdf']"
      ]
     },
     "execution_count": 203,
     "metadata": {},
     "output_type": "execute_result"
    }
   ],
   "source": [
    "ln.loc[i,'PDFs']"
   ]
  },
  {
   "cell_type": "code",
   "execution_count": 204,
   "metadata": {},
   "outputs": [
    {
     "data": {
      "text/plain": [
       "'1510.03437'"
      ]
     },
     "execution_count": 204,
     "metadata": {},
     "output_type": "execute_result"
    }
   ],
   "source": [
    "ln.loc[i,'arXiv']"
   ]
  },
  {
   "cell_type": "markdown",
   "metadata": {
    "colab_type": "text",
    "id": "rTi8jz8zlDYI"
   },
   "source": [
    "### Self-explanatory fields"
   ]
  },
  {
   "cell_type": "code",
   "execution_count": 205,
   "metadata": {},
   "outputs": [
    {
     "data": {
      "text/html": [
       "<div>\n",
       "<style scoped>\n",
       "    .dataframe tbody tr th:only-of-type {\n",
       "        vertical-align: middle;\n",
       "    }\n",
       "\n",
       "    .dataframe tbody tr th {\n",
       "        vertical-align: top;\n",
       "    }\n",
       "\n",
       "    .dataframe thead th {\n",
       "        text-align: right;\n",
       "    }\n",
       "</style>\n",
       "<table border=\"1\" class=\"dataframe\">\n",
       "  <thead>\n",
       "    <tr style=\"text-align: right;\">\n",
       "      <th></th>\n",
       "      <th>abstract</th>\n",
       "      <th>date_published</th>\n",
       "      <th>funding</th>\n",
       "      <th>issue</th>\n",
       "      <th>keywords</th>\n",
       "      <th>languages</th>\n",
       "      <th>mesh_terms</th>\n",
       "      <th>pages_end</th>\n",
       "      <th>pages_start</th>\n",
       "      <th>publication_supplementary_type</th>\n",
       "      <th>publication_type</th>\n",
       "      <th>title</th>\n",
       "      <th>volume</th>\n",
       "      <th>year_published</th>\n",
       "    </tr>\n",
       "  </thead>\n",
       "  <tbody>\n",
       "    <tr>\n",
       "      <th>0</th>\n",
       "      <td>The ATLAS Collaboration (and also CMS) has rec...</td>\n",
       "      <td>2016-01-21T00:00:00+00:00</td>\n",
       "      <td>[{'org_id': '10.13039/501100002661', 'funding_...</td>\n",
       "      <td>1</td>\n",
       "      <td>[]</td>\n",
       "      <td>[en]</td>\n",
       "      <td>[]</td>\n",
       "      <td>NaN</td>\n",
       "      <td>15012</td>\n",
       "      <td>[]</td>\n",
       "      <td>journal article</td>\n",
       "      <td>Diboson anomaly: Heavy Higgs resonance and QCD...</td>\n",
       "      <td>93</td>\n",
       "      <td>2016</td>\n",
       "    </tr>\n",
       "  </tbody>\n",
       "</table>\n",
       "</div>"
      ],
      "text/plain": [
       "                                            abstract  \\\n",
       "0  The ATLAS Collaboration (and also CMS) has rec...   \n",
       "\n",
       "              date_published  \\\n",
       "0  2016-01-21T00:00:00+00:00   \n",
       "\n",
       "                                             funding  issue keywords  \\\n",
       "0  [{'org_id': '10.13039/501100002661', 'funding_...      1       []   \n",
       "\n",
       "  languages mesh_terms  pages_end  pages_start publication_supplementary_type  \\\n",
       "0      [en]         []        NaN        15012                             []   \n",
       "\n",
       "  publication_type                                              title  volume  \\\n",
       "0  journal article  Diboson anomaly: Heavy Higgs resonance and QCD...      93   \n",
       "\n",
       "   year_published  \n",
       "0            2016  "
      ]
     },
     "execution_count": 205,
     "metadata": {},
     "output_type": "execute_result"
    }
   ],
   "source": [
    "ln[['abstract', 'date_published', 'funding',\n",
    "       'issue', 'keywords', 'languages', 'mesh_terms', 'pages_end',\n",
    "       'pages_start', 'publication_supplementary_type', 'publication_type',\n",
    "       'title', 'volume', 'year_published']].loc[[0]]"
   ]
  },
  {
   "cell_type": "code",
   "execution_count": 206,
   "metadata": {
    "colab": {
     "base_uri": "https://localhost:8080/",
     "height": 1115
    },
    "colab_type": "code",
    "id": "joPNYODXFQiw",
    "outputId": "1a2f9813-94a5-46db-bf44-31205fa4fe5e"
   },
   "outputs": [
    {
     "data": {
      "text/plain": [
       "[{'lens_id': 157243461017},\n",
       " {'lens_id': 511908356197},\n",
       " {'lens_id': 554765889905},\n",
       " {'lens_id': 625262539586},\n",
       " {'lens_id': 656423764547},\n",
       " {'lens_id': 1326319377136},\n",
       " {'lens_id': 1514844071549},\n",
       " {'lens_id': 2493872779822},\n",
       " {'lens_id': 2494092339066},\n",
       " {'lens_id': 2566123636854},\n",
       " {'lens_id': 2825915349771},\n",
       " {'lens_id': 3277397450819},\n",
       " {'lens_id': 3498731332786},\n",
       " {'lens_id': 3596585624382},\n",
       " {'lens_id': 3610408284260},\n",
       " {'lens_id': 3637284790067},\n",
       " {'lens_id': 3759492979011},\n",
       " {'lens_id': 4081061587669},\n",
       " {'lens_id': 4131186365653},\n",
       " {'lens_id': 4231001148730},\n",
       " {'lens_id': 4807770246664},\n",
       " {'lens_id': 4828167432673},\n",
       " {'lens_id': 4836482296561},\n",
       " {'lens_id': 5007459714612},\n",
       " {'lens_id': 5141667571468},\n",
       " {'lens_id': 5568654687238},\n",
       " {'lens_id': 5723578187014},\n",
       " {'lens_id': 5776840922724},\n",
       " {'lens_id': 6191093647811},\n",
       " {'lens_id': 6400858984624},\n",
       " {'lens_id': 6600218844479},\n",
       " {'lens_id': 6692074167290},\n",
       " {'lens_id': 6918307828900},\n",
       " {'lens_id': 7006910898580},\n",
       " {'lens_id': 7436540072840},\n",
       " {'lens_id': 7501771852096},\n",
       " {'lens_id': 7891385366407},\n",
       " {'lens_id': 8016770251570},\n",
       " {'lens_id': 8453976553699},\n",
       " {'lens_id': 8596381653830},\n",
       " {'lens_id': 8791543867614},\n",
       " {'lens_id': 8854474249186},\n",
       " {'lens_id': 9082202059294},\n",
       " {'lens_id': 10405165839412},\n",
       " {'lens_id': 10661974735108},\n",
       " {'lens_id': 11159553425379},\n",
       " {'lens_id': 11403894288560},\n",
       " {'lens_id': 11814138226568},\n",
       " {'lens_id': 11967194468175},\n",
       " {'lens_id': 12597070155648},\n",
       " {'lens_id': 13091077973788},\n",
       " {'lens_id': 13245780764745},\n",
       " {'lens_id': 14802714957867},\n",
       " {'lens_id': 14884627288280},\n",
       " {'lens_id': 15066442161849},\n",
       " {'lens_id': 15118343367846},\n",
       " {'lens_id': 16003025286982},\n",
       " {'lens_id': 16023338847630},\n",
       " {'lens_id': 17061093408210},\n",
       " {'lens_id': 17136492797807},\n",
       " {'lens_id': 17679094074837}]"
      ]
     },
     "execution_count": 206,
     "metadata": {},
     "output_type": "execute_result"
    }
   ],
   "source": [
    "ln.loc[i,'references']"
   ]
  }
 ],
 "metadata": {
  "colab": {
   "include_colab_link": true,
   "name": "example.ipynb",
   "provenance": [],
   "version": "0.3.2"
  },
  "kernelspec": {
   "display_name": "Python 3",
   "language": "python",
   "name": "python3"
  },
  "language_info": {
   "codemirror_mode": {
    "name": "ipython",
    "version": 3
   },
   "file_extension": ".py",
   "mimetype": "text/x-python",
   "name": "python",
   "nbconvert_exporter": "python",
   "pygments_lexer": "ipython3",
   "version": "3.5.3"
  }
 },
 "nbformat": 4,
 "nbformat_minor": 1
}
