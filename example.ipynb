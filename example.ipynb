{
  "nbformat": 4,
  "nbformat_minor": 0,
  "metadata": {
    "colab": {
      "name": "example.ipynb",
      "version": "0.3.2",
      "provenance": []
    },
    "language_info": {
      "codemirror_mode": {
        "name": "ipython",
        "version": 3
      },
      "file_extension": ".py",
      "mimetype": "text/x-python",
      "name": "python",
      "nbconvert_exporter": "python",
      "pygments_lexer": "ipython3",
      "version": "3.7.2"
    },
    "kernelspec": {
      "display_name": "Python 3",
      "language": "python",
      "name": "python3"
    }
  },
  "cells": [
    {
      "cell_type": "markdown",
      "metadata": {
        "id": "tJ5RsUi2PNPN",
        "colab_type": "text"
      },
      "source": [
        "# Lens\n",
        "Example of lens search. Check aginst:\n",
        "\n",
        "https://www.lens.org/lens/scholar/search/results?q=lens_id:009-947-141-343-381"
      ]
    },
    {
      "cell_type": "code",
      "metadata": {
        "id": "E56vkhzpFQiY",
        "colab_type": "code",
        "colab": {}
      },
      "source": [
        "import pandas as pd"
      ],
      "execution_count": 0,
      "outputs": []
    },
    {
      "cell_type": "code",
      "metadata": {
        "id": "1KZ2AlcHFQid",
        "colab_type": "code",
        "colab": {}
      },
      "source": [
        "ln=pd.read_json('https://raw.githubusercontent.com/restrepo/lens/master/data/lens.json') "
      ],
      "execution_count": 0,
      "outputs": []
    },
    {
      "cell_type": "code",
      "metadata": {
        "scrolled": true,
        "id": "RMGd3OcPFQif",
        "colab_type": "code",
        "colab": {
          "base_uri": "https://localhost:8080/",
          "height": 143
        },
        "outputId": "ed258d64-382e-4446-cd16-3f8b56e9e48f"
      },
      "source": [
        "ln.columns"
      ],
      "execution_count": 7,
      "outputs": [
        {
          "output_type": "execute_result",
          "data": {
            "text/plain": [
              "Index(['_id', 'abstract', 'authors', 'chemicals', 'citation_ids',\n",
              "       'clinical_trials', 'date_published', 'fields_of_study', 'funding',\n",
              "       'issue', 'journal', 'keywords', 'languages', 'mesh_terms', 'pages_end',\n",
              "       'pages_start', 'publication_supplementary_type', 'publication_type',\n",
              "       'record_lens_id', 'referenced_by_count', 'referenced_by_patent_count',\n",
              "       'references', 'source_urls', 'title', 'volume', 'year_published'],\n",
              "      dtype='object')"
            ]
          },
          "metadata": {
            "tags": []
          },
          "execution_count": 7
        }
      ]
    },
    {
      "cell_type": "markdown",
      "metadata": {
        "id": "kL11sRc6UN0j",
        "colab_type": "text"
      },
      "source": [
        "Article identification in several data bases:"
      ]
    },
    {
      "cell_type": "code",
      "metadata": {
        "id": "lJ2qDmteFQii",
        "colab_type": "code",
        "colab": {
          "base_uri": "https://localhost:8080/",
          "height": 53
        },
        "outputId": "a75b02be-6432-4d66-8bf1-998f02c28443"
      },
      "source": [
        "ln.citation_ids.apply(len)"
      ],
      "execution_count": 10,
      "outputs": [
        {
          "output_type": "execute_result",
          "data": {
            "text/plain": [
              "0    1\n",
              "Name: citation_ids, dtype: int64"
            ]
          },
          "metadata": {
            "tags": []
          },
          "execution_count": 10
        }
      ]
    },
    {
      "cell_type": "code",
      "metadata": {
        "id": "aLavlfkiFQil",
        "colab_type": "code",
        "colab": {}
      },
      "source": [
        "ln['magid']=ln.citation_ids.apply(lambda x: [y.get('value') for y in x if y.get('type')=='magid']).str[0]"
      ],
      "execution_count": 0,
      "outputs": []
    },
    {
      "cell_type": "code",
      "metadata": {
        "id": "41IAQ790U6KU",
        "colab_type": "code",
        "colab": {}
      },
      "source": [
        "i=0\n",
        "magid=ln.fillna('').loc[i,'magid'].split('mag')[-1]"
      ],
      "execution_count": 0,
      "outputs": []
    },
    {
      "cell_type": "code",
      "metadata": {
        "id": "B5miR_6HUVjD",
        "colab_type": "code",
        "colab": {
          "base_uri": "https://localhost:8080/",
          "height": 35
        },
        "outputId": "877f4513-64ff-433b-d9d8-7f57a41fbe67"
      },
      "source": [
        "print('Microsoft academic link for article: https://academic.microsoft.com/#/detail/{}'.format(magid))"
      ],
      "execution_count": 49,
      "outputs": [
        {
          "output_type": "stream",
          "text": [
            "Microsoft academic link for article: https://academic.microsoft.com/#/detail/2284270222\n"
          ],
          "name": "stdout"
        }
      ]
    },
    {
      "cell_type": "code",
      "metadata": {
        "id": "bFDUdQWyFQin",
        "colab_type": "code",
        "colab": {},
        "outputId": "3e543b12-4146-4332-e297-e10e116eae9a"
      },
      "source": [
        "ln.citation_ids[0]"
      ],
      "execution_count": 0,
      "outputs": [
        {
          "output_type": "execute_result",
          "data": {
            "text/plain": [
              "[{'type': 'pmid', 'value': '17122924'},\n",
              " {'type': 'doi', 'value': '10.1007/s10856-006-0536-5'},\n",
              " {'type': 'magid', 'value': 'mag2111597952'}]"
            ]
          },
          "metadata": {
            "tags": []
          },
          "execution_count": 32
        }
      ]
    },
    {
      "cell_type": "code",
      "metadata": {
        "id": "dxoBrNIMFQip",
        "colab_type": "code",
        "colab": {},
        "outputId": "dd518441-d55e-4561-c972-0e43b96db8f0"
      },
      "source": [
        "ln.referenced_by_count"
      ],
      "execution_count": 0,
      "outputs": [
        {
          "output_type": "execute_result",
          "data": {
            "text/plain": [
              "0    9\n",
              "Name: referenced_by_count, dtype: int64"
            ]
          },
          "metadata": {
            "tags": []
          },
          "execution_count": 21
        }
      ]
    },
    {
      "cell_type": "code",
      "metadata": {
        "id": "YxwVRto_FQis",
        "colab_type": "code",
        "colab": {},
        "outputId": "f9f0221a-580b-49f6-a76b-03ab700829e1"
      },
      "source": [
        "ln.referenced_by_patent_count"
      ],
      "execution_count": 0,
      "outputs": [
        {
          "output_type": "execute_result",
          "data": {
            "text/plain": [
              "0    0\n",
              "Name: referenced_by_patent_count, dtype: int64"
            ]
          },
          "metadata": {
            "tags": []
          },
          "execution_count": 22
        }
      ]
    },
    {
      "cell_type": "code",
      "metadata": {
        "id": "joPNYODXFQiw",
        "colab_type": "code",
        "colab": {},
        "outputId": "9dbe7399-a43c-4dc5-c5d0-01d0e4da0c7f"
      },
      "source": [
        "ln.references"
      ],
      "execution_count": 0,
      "outputs": [
        {
          "output_type": "execute_result",
          "data": {
            "text/plain": [
              "0    [{'lens_id': 269340095748}, {'lens_id': 554471...\n",
              "Name: references, dtype: object"
            ]
          },
          "metadata": {
            "tags": []
          },
          "execution_count": 18
        }
      ]
    },
    {
      "cell_type": "code",
      "metadata": {
        "id": "EzU0wdszFQiz",
        "colab_type": "code",
        "colab": {},
        "outputId": "0cc69279-2815-4255-d13f-b5b35e0b58aa"
      },
      "source": [
        "ln.record_lens_id"
      ],
      "execution_count": 0,
      "outputs": [
        {
          "output_type": "execute_result",
          "data": {
            "text/plain": [
              "0    000-007-853-017-579\n",
              "Name: record_lens_id, dtype: object"
            ]
          },
          "metadata": {
            "tags": []
          },
          "execution_count": 11
        }
      ]
    },
    {
      "cell_type": "code",
      "metadata": {
        "id": "pjk-bfOWFQi1",
        "colab_type": "code",
        "colab": {},
        "outputId": "f88baef9-f1b9-4863-ab50-d4f9fe1986f7"
      },
      "source": [
        "ln.shape"
      ],
      "execution_count": 0,
      "outputs": [
        {
          "output_type": "execute_result",
          "data": {
            "text/plain": [
              "(23714, 25)"
            ]
          },
          "metadata": {
            "tags": []
          },
          "execution_count": 3
        }
      ]
    },
    {
      "cell_type": "code",
      "metadata": {
        "id": "fNckj-DOFQi3",
        "colab_type": "code",
        "colab": {},
        "outputId": "4e281967-2ea4-4af5-83d6-1557d00d7bfe"
      },
      "source": [
        "269-340-095-748"
      ],
      "execution_count": 0,
      "outputs": [
        {
          "output_type": "error",
          "ename": "SyntaxError",
          "evalue": "invalid token (<ipython-input-4-3270e2f26706>, line 1)",
          "traceback": [
            "\u001b[0;36m  File \u001b[0;32m\"<ipython-input-4-3270e2f26706>\"\u001b[0;36m, line \u001b[0;32m1\u001b[0m\n\u001b[0;31m    269-340-095-748\u001b[0m\n\u001b[0m              ^\u001b[0m\n\u001b[0;31mSyntaxError\u001b[0m\u001b[0;31m:\u001b[0m invalid token\n"
          ]
        }
      ]
    },
    {
      "cell_type": "code",
      "metadata": {
        "id": "tnjp6y9kFQi6",
        "colab_type": "code",
        "colab": {},
        "outputId": "acacd6af-71e7-480c-b98b-4130adef1118"
      },
      "source": [
        "ln[:3]"
      ],
      "execution_count": 0,
      "outputs": [
        {
          "output_type": "execute_result",
          "data": {
            "text/html": [
              "<div>\n",
              "<style scoped>\n",
              "    .dataframe tbody tr th:only-of-type {\n",
              "        vertical-align: middle;\n",
              "    }\n",
              "\n",
              "    .dataframe tbody tr th {\n",
              "        vertical-align: top;\n",
              "    }\n",
              "\n",
              "    .dataframe thead th {\n",
              "        text-align: right;\n",
              "    }\n",
              "</style>\n",
              "<table border=\"1\" class=\"dataframe\">\n",
              "  <thead>\n",
              "    <tr style=\"text-align: right;\">\n",
              "      <th></th>\n",
              "      <th>abstract</th>\n",
              "      <th>authors</th>\n",
              "      <th>chemicals</th>\n",
              "      <th>citation_ids</th>\n",
              "      <th>clinical_trials</th>\n",
              "      <th>date_published</th>\n",
              "      <th>fields_of_study</th>\n",
              "      <th>funding</th>\n",
              "      <th>issue</th>\n",
              "      <th>journal</th>\n",
              "      <th>...</th>\n",
              "      <th>publication_supplementary_type</th>\n",
              "      <th>publication_type</th>\n",
              "      <th>record_lens_id</th>\n",
              "      <th>referenced_by_count</th>\n",
              "      <th>referenced_by_patent_count</th>\n",
              "      <th>references</th>\n",
              "      <th>source_urls</th>\n",
              "      <th>title</th>\n",
              "      <th>volume</th>\n",
              "      <th>year_published</th>\n",
              "    </tr>\n",
              "  </thead>\n",
              "  <tbody>\n",
              "    <tr>\n",
              "      <th>0</th>\n",
              "      <td>Stainless steel has been frequently used for t...</td>\n",
              "      <td>[{'collective_name': None, 'initials': 'CPO', ...</td>\n",
              "      <td>[{'mesh_ui': 'D020099', 'substance_name': 'Coa...</td>\n",
              "      <td>[{'value': '17122924', 'type': 'pmid'}, {'valu...</td>\n",
              "      <td>[]</td>\n",
              "      <td>2006-11-22T00:00:00+00:00</td>\n",
              "      <td>[{'id': None, 'similarity': 0.3940717999999999...</td>\n",
              "      <td>[]</td>\n",
              "      <td>11</td>\n",
              "      <td>{'country': 'Netherlands', 'publisher': 'Sprin...</td>\n",
              "      <td>...</td>\n",
              "      <td>[research support, non-u.s. gov't]</td>\n",
              "      <td>journal article</td>\n",
              "      <td>000-007-853-017-579</td>\n",
              "      <td>9</td>\n",
              "      <td>0</td>\n",
              "      <td>[{'lens_id': 269340095748}, {'lens_id': 554471...</td>\n",
              "      <td>[{'url': 'https://link.springer.com/article/10...</td>\n",
              "      <td>Cytotoxicity study of plasma-sprayed hydroxyap...</td>\n",
              "      <td>17</td>\n",
              "      <td>2006</td>\n",
              "    </tr>\n",
              "    <tr>\n",
              "      <th>1</th>\n",
              "      <td>Speech disorders are among the most common sym...</td>\n",
              "      <td>[{'collective_name': None, 'initials': 'N', 'a...</td>\n",
              "      <td>[]</td>\n",
              "      <td>[{'value': 'mag2739944706', 'type': 'magid'}, ...</td>\n",
              "      <td>[]</td>\n",
              "      <td>2017-08-27T00:00:00+00:00</td>\n",
              "      <td>[{'id': None, 'similarity': 0.4420709610000000...</td>\n",
              "      <td>[]</td>\n",
              "      <td>None</td>\n",
              "      <td>{'country': 'Germany', 'publisher': 'Springer ...</td>\n",
              "      <td>...</td>\n",
              "      <td>[]</td>\n",
              "      <td>conference proceedings</td>\n",
              "      <td>000-012-385-217-540</td>\n",
              "      <td>1</td>\n",
              "      <td>0</td>\n",
              "      <td>[{'lens_id': 11621625958}, {'lens_id': 9583187...</td>\n",
              "      <td>[{'url': 'http://dblp.uni-trier.de/db/conf/tsd...</td>\n",
              "      <td>TSD - Language Independent Assessment of Motor...</td>\n",
              "      <td>None</td>\n",
              "      <td>2017</td>\n",
              "    </tr>\n",
              "    <tr>\n",
              "      <th>2</th>\n",
              "      <td>None</td>\n",
              "      <td>[{'collective_name': None, 'initials': 'GA', '...</td>\n",
              "      <td>[]</td>\n",
              "      <td>[{'value': 'mag2307874066', 'type': 'magid'}]</td>\n",
              "      <td>[]</td>\n",
              "      <td>1999-01-01T00:00:00+00:00</td>\n",
              "      <td>[{'id': None, 'similarity': 0.2531620260000000...</td>\n",
              "      <td>[]</td>\n",
              "      <td>89</td>\n",
              "      <td>NaN</td>\n",
              "      <td>...</td>\n",
              "      <td>[]</td>\n",
              "      <td>None</td>\n",
              "      <td>000-012-800-591-40X</td>\n",
              "      <td>0</td>\n",
              "      <td>0</td>\n",
              "      <td>[]</td>\n",
              "      <td>[{'url': 'https://biblat.unam.mx/es/revista/re...</td>\n",
              "      <td>Actividad de las enzimas ligninolíticas del Ph...</td>\n",
              "      <td>23</td>\n",
              "      <td>1999</td>\n",
              "    </tr>\n",
              "  </tbody>\n",
              "</table>\n",
              "<p>3 rows × 25 columns</p>\n",
              "</div>"
            ],
            "text/plain": [
              "                                            abstract  \\\n",
              "0  Stainless steel has been frequently used for t...   \n",
              "1  Speech disorders are among the most common sym...   \n",
              "2                                               None   \n",
              "\n",
              "                                             authors  \\\n",
              "0  [{'collective_name': None, 'initials': 'CPO', ...   \n",
              "1  [{'collective_name': None, 'initials': 'N', 'a...   \n",
              "2  [{'collective_name': None, 'initials': 'GA', '...   \n",
              "\n",
              "                                           chemicals  \\\n",
              "0  [{'mesh_ui': 'D020099', 'substance_name': 'Coa...   \n",
              "1                                                 []   \n",
              "2                                                 []   \n",
              "\n",
              "                                        citation_ids clinical_trials  \\\n",
              "0  [{'value': '17122924', 'type': 'pmid'}, {'valu...              []   \n",
              "1  [{'value': 'mag2739944706', 'type': 'magid'}, ...              []   \n",
              "2      [{'value': 'mag2307874066', 'type': 'magid'}]              []   \n",
              "\n",
              "              date_published  \\\n",
              "0  2006-11-22T00:00:00+00:00   \n",
              "1  2017-08-27T00:00:00+00:00   \n",
              "2  1999-01-01T00:00:00+00:00   \n",
              "\n",
              "                                     fields_of_study funding issue  \\\n",
              "0  [{'id': None, 'similarity': 0.3940717999999999...      []    11   \n",
              "1  [{'id': None, 'similarity': 0.4420709610000000...      []  None   \n",
              "2  [{'id': None, 'similarity': 0.2531620260000000...      []    89   \n",
              "\n",
              "                                             journal       ...        \\\n",
              "0  {'country': 'Netherlands', 'publisher': 'Sprin...       ...         \n",
              "1  {'country': 'Germany', 'publisher': 'Springer ...       ...         \n",
              "2                                                NaN       ...         \n",
              "\n",
              "       publication_supplementary_type        publication_type  \\\n",
              "0  [research support, non-u.s. gov't]         journal article   \n",
              "1                                  []  conference proceedings   \n",
              "2                                  []                    None   \n",
              "\n",
              "        record_lens_id referenced_by_count referenced_by_patent_count  \\\n",
              "0  000-007-853-017-579                   9                          0   \n",
              "1  000-012-385-217-540                   1                          0   \n",
              "2  000-012-800-591-40X                   0                          0   \n",
              "\n",
              "                                          references  \\\n",
              "0  [{'lens_id': 269340095748}, {'lens_id': 554471...   \n",
              "1  [{'lens_id': 11621625958}, {'lens_id': 9583187...   \n",
              "2                                                 []   \n",
              "\n",
              "                                         source_urls  \\\n",
              "0  [{'url': 'https://link.springer.com/article/10...   \n",
              "1  [{'url': 'http://dblp.uni-trier.de/db/conf/tsd...   \n",
              "2  [{'url': 'https://biblat.unam.mx/es/revista/re...   \n",
              "\n",
              "                                               title  volume  year_published  \n",
              "0  Cytotoxicity study of plasma-sprayed hydroxyap...      17            2006  \n",
              "1  TSD - Language Independent Assessment of Motor...    None            2017  \n",
              "2  Actividad de las enzimas ligninolíticas del Ph...      23            1999  \n",
              "\n",
              "[3 rows x 25 columns]"
            ]
          },
          "metadata": {
            "tags": []
          },
          "execution_count": 5
        }
      ]
    },
    {
      "cell_type": "code",
      "metadata": {
        "id": "-PXFgEOaFQi_",
        "colab_type": "code",
        "colab": {}
      },
      "source": [
        ""
      ],
      "execution_count": 0,
      "outputs": []
    },
    {
      "cell_type": "code",
      "metadata": {
        "id": "WQgrdH9zFQjA",
        "colab_type": "code",
        "colab": {}
      },
      "source": [
        "ln['aff']=ln.authors.str[0].apply(lambda x: x.get('affiliations')).str[0]"
      ],
      "execution_count": 0,
      "outputs": []
    },
    {
      "cell_type": "code",
      "metadata": {
        "id": "dG6rzUBkFQjC",
        "colab_type": "code",
        "colab": {}
      },
      "source": [
        "lny=ln[~ln.aff.isna()].reset_index(drop=True)\n",
        "lnn=ln[ln.aff.isna()].reset_index(drop=True)"
      ],
      "execution_count": 0,
      "outputs": []
    },
    {
      "cell_type": "code",
      "metadata": {
        "id": "_QUnmtNNFQjD",
        "colab_type": "code",
        "colab": {}
      },
      "source": [
        "lnn['aff_name']=None"
      ],
      "execution_count": 0,
      "outputs": []
    },
    {
      "cell_type": "code",
      "metadata": {
        "id": "X-I7sSVyFQjF",
        "colab_type": "code",
        "colab": {}
      },
      "source": [
        "lny['aff_name']=lny.aff.apply(lambda x: x.get('name'))"
      ],
      "execution_count": 0,
      "outputs": []
    },
    {
      "cell_type": "code",
      "metadata": {
        "id": "8U9d0GGjFQjI",
        "colab_type": "code",
        "colab": {}
      },
      "source": [
        "ln=lny.append(lny).reset_index(drop=True)"
      ],
      "execution_count": 0,
      "outputs": []
    },
    {
      "cell_type": "code",
      "metadata": {
        "id": "MQuK7SPeFQjJ",
        "colab_type": "code",
        "colab": {},
        "outputId": "7ee9a37f-0a3b-4cb2-c26f-64aa082f3e52"
      },
      "source": [
        "ln.aff.apply(lambda x: x.get('grid'))[:6].apply(lambda x: x.get('addresses'))"
      ],
      "execution_count": 0,
      "outputs": [
        {
          "output_type": "error",
          "ename": "AttributeError",
          "evalue": "'NoneType' object has no attribute 'get'",
          "traceback": [
            "\u001b[0;31m---------------------------------------------------------------------------\u001b[0m",
            "\u001b[0;31mAttributeError\u001b[0m                            Traceback (most recent call last)",
            "\u001b[0;32m<ipython-input-90-7812425c3078>\u001b[0m in \u001b[0;36m<module>\u001b[0;34m()\u001b[0m\n\u001b[0;32m----> 1\u001b[0;31m \u001b[0mln\u001b[0m\u001b[0;34m.\u001b[0m\u001b[0maff\u001b[0m\u001b[0;34m.\u001b[0m\u001b[0mapply\u001b[0m\u001b[0;34m(\u001b[0m\u001b[0;32mlambda\u001b[0m \u001b[0mx\u001b[0m\u001b[0;34m:\u001b[0m \u001b[0mx\u001b[0m\u001b[0;34m.\u001b[0m\u001b[0mget\u001b[0m\u001b[0;34m(\u001b[0m\u001b[0;34m'grid'\u001b[0m\u001b[0;34m)\u001b[0m\u001b[0;34m)\u001b[0m\u001b[0;34m[\u001b[0m\u001b[0;34m:\u001b[0m\u001b[0;36m6\u001b[0m\u001b[0;34m]\u001b[0m\u001b[0;34m.\u001b[0m\u001b[0mapply\u001b[0m\u001b[0;34m(\u001b[0m\u001b[0;32mlambda\u001b[0m \u001b[0mx\u001b[0m\u001b[0;34m:\u001b[0m \u001b[0mx\u001b[0m\u001b[0;34m.\u001b[0m\u001b[0mget\u001b[0m\u001b[0;34m(\u001b[0m\u001b[0;34m'addresses'\u001b[0m\u001b[0;34m)\u001b[0m\u001b[0;34m)\u001b[0m\u001b[0;34m\u001b[0m\u001b[0m\n\u001b[0m",
            "\u001b[0;32m/usr/local/lib/python3.5/dist-packages/pandas/core/series.py\u001b[0m in \u001b[0;36mapply\u001b[0;34m(self, func, convert_dtype, args, **kwds)\u001b[0m\n\u001b[1;32m   3192\u001b[0m             \u001b[0;32melse\u001b[0m\u001b[0;34m:\u001b[0m\u001b[0;34m\u001b[0m\u001b[0m\n\u001b[1;32m   3193\u001b[0m                 \u001b[0mvalues\u001b[0m \u001b[0;34m=\u001b[0m \u001b[0mself\u001b[0m\u001b[0;34m.\u001b[0m\u001b[0mastype\u001b[0m\u001b[0;34m(\u001b[0m\u001b[0mobject\u001b[0m\u001b[0;34m)\u001b[0m\u001b[0;34m.\u001b[0m\u001b[0mvalues\u001b[0m\u001b[0;34m\u001b[0m\u001b[0m\n\u001b[0;32m-> 3194\u001b[0;31m                 \u001b[0mmapped\u001b[0m \u001b[0;34m=\u001b[0m \u001b[0mlib\u001b[0m\u001b[0;34m.\u001b[0m\u001b[0mmap_infer\u001b[0m\u001b[0;34m(\u001b[0m\u001b[0mvalues\u001b[0m\u001b[0;34m,\u001b[0m \u001b[0mf\u001b[0m\u001b[0;34m,\u001b[0m \u001b[0mconvert\u001b[0m\u001b[0;34m=\u001b[0m\u001b[0mconvert_dtype\u001b[0m\u001b[0;34m)\u001b[0m\u001b[0;34m\u001b[0m\u001b[0m\n\u001b[0m\u001b[1;32m   3195\u001b[0m \u001b[0;34m\u001b[0m\u001b[0m\n\u001b[1;32m   3196\u001b[0m         \u001b[0;32mif\u001b[0m \u001b[0mlen\u001b[0m\u001b[0;34m(\u001b[0m\u001b[0mmapped\u001b[0m\u001b[0;34m)\u001b[0m \u001b[0;32mand\u001b[0m \u001b[0misinstance\u001b[0m\u001b[0;34m(\u001b[0m\u001b[0mmapped\u001b[0m\u001b[0;34m[\u001b[0m\u001b[0;36m0\u001b[0m\u001b[0;34m]\u001b[0m\u001b[0;34m,\u001b[0m \u001b[0mSeries\u001b[0m\u001b[0;34m)\u001b[0m\u001b[0;34m:\u001b[0m\u001b[0;34m\u001b[0m\u001b[0m\n",
            "\u001b[0;32mpandas/_libs/src/inference.pyx\u001b[0m in \u001b[0;36mpandas._libs.lib.map_infer\u001b[0;34m()\u001b[0m\n",
            "\u001b[0;32m<ipython-input-90-7812425c3078>\u001b[0m in \u001b[0;36m<lambda>\u001b[0;34m(x)\u001b[0m\n\u001b[0;32m----> 1\u001b[0;31m \u001b[0mln\u001b[0m\u001b[0;34m.\u001b[0m\u001b[0maff\u001b[0m\u001b[0;34m.\u001b[0m\u001b[0mapply\u001b[0m\u001b[0;34m(\u001b[0m\u001b[0;32mlambda\u001b[0m \u001b[0mx\u001b[0m\u001b[0;34m:\u001b[0m \u001b[0mx\u001b[0m\u001b[0;34m.\u001b[0m\u001b[0mget\u001b[0m\u001b[0;34m(\u001b[0m\u001b[0;34m'grid'\u001b[0m\u001b[0;34m)\u001b[0m\u001b[0;34m)\u001b[0m\u001b[0;34m[\u001b[0m\u001b[0;34m:\u001b[0m\u001b[0;36m6\u001b[0m\u001b[0;34m]\u001b[0m\u001b[0;34m.\u001b[0m\u001b[0mapply\u001b[0m\u001b[0;34m(\u001b[0m\u001b[0;32mlambda\u001b[0m \u001b[0mx\u001b[0m\u001b[0;34m:\u001b[0m \u001b[0mx\u001b[0m\u001b[0;34m.\u001b[0m\u001b[0mget\u001b[0m\u001b[0;34m(\u001b[0m\u001b[0;34m'addresses'\u001b[0m\u001b[0;34m)\u001b[0m\u001b[0;34m)\u001b[0m\u001b[0;34m\u001b[0m\u001b[0m\n\u001b[0m",
            "\u001b[0;31mAttributeError\u001b[0m: 'NoneType' object has no attribute 'get'"
          ]
        }
      ]
    },
    {
      "cell_type": "code",
      "metadata": {
        "id": "l2Jl4AgPFQjL",
        "colab_type": "code",
        "colab": {}
      },
      "source": [
        "x={'ids': [], 'grid': None}"
      ],
      "execution_count": 0,
      "outputs": []
    },
    {
      "cell_type": "code",
      "metadata": {
        "id": "HOl7PZGIFQjN",
        "colab_type": "code",
        "colab": {},
        "outputId": "32afb009-20d4-49b5-ea7a-df2a6f8ce0fe"
      },
      "source": [
        "x.get('grid') is None"
      ],
      "execution_count": 0,
      "outputs": [
        {
          "output_type": "execute_result",
          "data": {
            "text/plain": [
              "True"
            ]
          },
          "metadata": {
            "tags": []
          },
          "execution_count": 105
        }
      ]
    },
    {
      "cell_type": "code",
      "metadata": {
        "id": "uMSB6okpFQjP",
        "colab_type": "code",
        "colab": {},
        "outputId": "2ebbe6d0-32dc-4a40-f900-c3163f49b71d"
      },
      "source": [
        "ln.aff[:6]"
      ],
      "execution_count": 0,
      "outputs": [
        {
          "output_type": "execute_result",
          "data": {
            "text/plain": [
              "0    {'ids': [{'value': 'mag35961687', 'type': 'mag...\n",
              "1    {'ids': [{'value': 'mag35961687', 'type': 'mag...\n",
              "2    {'ids': [{'value': 'mag35961687', 'type': 'mag...\n",
              "3    {'ids': [{'value': 'mag16362100', 'type': 'mag...\n",
              "4    {'ids': [{'value': 'mag35961687', 'type': 'mag...\n",
              "5    {'ids': [], 'grid': None, 'name': 'Corporación...\n",
              "Name: aff, dtype: object"
            ]
          },
          "metadata": {
            "tags": []
          },
          "execution_count": 92
        }
      ]
    },
    {
      "cell_type": "code",
      "metadata": {
        "id": "fPYrv_R2FQjR",
        "colab_type": "code",
        "colab": {}
      },
      "source": [
        "lnn=ln[ln.aff.apply(lambda x: x.get('grid') is None)].reset_index(drop=True)\n",
        "lny=ln[~ln.aff.apply(lambda x: x.get('grid') is None)].reset_index(drop=True)"
      ],
      "execution_count": 0,
      "outputs": []
    },
    {
      "cell_type": "code",
      "metadata": {
        "id": "al_1UU5mFQjT",
        "colab_type": "code",
        "colab": {}
      },
      "source": [
        "lny['country_code']=lny.aff.apply(\n",
        "    lambda x: x.get('grid') ).apply(\n",
        "    lambda x: x.get('addresses') ).str[0].apply(\n",
        "    lambda x: x.get('country_code') )"
      ],
      "execution_count": 0,
      "outputs": []
    },
    {
      "cell_type": "code",
      "metadata": {
        "id": "XWZMuasJFQjV",
        "colab_type": "code",
        "colab": {},
        "outputId": "61e4aed5-44d1-43e8-9181-1878c07bc860"
      },
      "source": [
        "lny.aff.apply(\n",
        "    lambda x: x.get('grid') ).apply(\n",
        "    lambda x: x.get('addresses') )"
      ],
      "execution_count": 0,
      "outputs": [
        {
          "output_type": "execute_result",
          "data": {
            "text/plain": [
              "0        [{'country_code': 'CO', 'lat': 6.267417, 'stat...\n",
              "1        [{'country_code': 'CO', 'lat': 6.267417, 'stat...\n",
              "2        [{'country_code': 'CO', 'lat': 6.267417, 'stat...\n",
              "3        [{'country_code': 'IL', 'lat': 32.8684, 'state...\n",
              "4        [{'country_code': 'CO', 'lat': 6.267417, 'stat...\n",
              "5        [{'country_code': 'CO', 'lat': 6.267417, 'stat...\n",
              "6        [{'country_code': 'CO', 'lat': 6.267417, 'stat...\n",
              "7        [{'country_code': 'CO', 'lat': 6.267417, 'stat...\n",
              "8        [{'country_code': 'CO', 'lat': 6.267417, 'stat...\n",
              "9        [{'country_code': 'CO', 'lat': 6.267417, 'stat...\n",
              "10       [{'country_code': 'CO', 'lat': 6.267417, 'stat...\n",
              "11       [{'country_code': 'CO', 'lat': 6.267417, 'stat...\n",
              "12       [{'country_code': 'CO', 'lat': 6.267417, 'stat...\n",
              "13       [{'country_code': 'CO', 'lat': 6.267417, 'stat...\n",
              "14       [{'country_code': 'CO', 'lat': 6.267417, 'stat...\n",
              "15       [{'country_code': 'CO', 'lat': 6.267417, 'stat...\n",
              "16       [{'country_code': 'CO', 'lat': 6.267417, 'stat...\n",
              "17       [{'country_code': 'CO', 'lat': 6.267417, 'stat...\n",
              "18       [{'country_code': 'CO', 'lat': 6.267417, 'stat...\n",
              "19       [{'country_code': 'CO', 'lat': 6.267417, 'stat...\n",
              "20       [{'country_code': 'CO', 'lat': 6.267417, 'stat...\n",
              "21       [{'country_code': 'CO', 'lat': 6.267417, 'stat...\n",
              "22       [{'country_code': 'CO', 'lat': 6.267417, 'stat...\n",
              "23       [{'country_code': 'US', 'lat': 35.784384, 'sta...\n",
              "24       [{'country_code': 'CO', 'lat': 6.267417, 'stat...\n",
              "25       [{'country_code': 'CO', 'lat': 6.267417, 'stat...\n",
              "26       [{'country_code': 'CO', 'lat': 6.267417, 'stat...\n",
              "27       [{'country_code': 'CO', 'lat': 6.267417, 'stat...\n",
              "28       [{'country_code': 'CO', 'lat': 6.267417, 'stat...\n",
              "29       [{'country_code': 'CO', 'lat': 6.267417, 'stat...\n",
              "                               ...                        \n",
              "43044    [{'country_code': 'CO', 'lat': 3.375109, 'stat...\n",
              "43045    [{'country_code': 'CO', 'lat': 6.267417, 'stat...\n",
              "43046    [{'country_code': 'CO', 'lat': 6.267417, 'stat...\n",
              "43047    [{'country_code': 'CO', 'lat': 6.267417, 'stat...\n",
              "43048    [{'country_code': 'CO', 'lat': 6.267417, 'stat...\n",
              "43049    [{'country_code': 'CO', 'lat': 6.267417, 'stat...\n",
              "43050    [{'country_code': 'CO', 'lat': 6.267417, 'stat...\n",
              "43051    [{'country_code': 'CO', 'lat': 6.267417, 'stat...\n",
              "43052    [{'country_code': 'CO', 'lat': 6.267417, 'stat...\n",
              "43053    [{'country_code': 'MX', 'lat': 19.322816, 'sta...\n",
              "43054    [{'country_code': 'CO', 'lat': 6.267417, 'stat...\n",
              "43055    [{'country_code': 'CO', 'lat': 6.267417, 'stat...\n",
              "43056    [{'country_code': 'CO', 'lat': 6.267417, 'stat...\n",
              "43057    [{'country_code': 'CO', 'lat': 6.267417, 'stat...\n",
              "43058    [{'country_code': 'CO', 'lat': 6.267417, 'stat...\n",
              "43059    [{'country_code': 'CO', 'lat': 6.267417, 'stat...\n",
              "43060    [{'country_code': 'CO', 'lat': 6.267417, 'stat...\n",
              "43061    [{'country_code': 'ES', 'lat': 40.447874, 'sta...\n",
              "43062    [{'country_code': 'CO', 'lat': 6.267417, 'stat...\n",
              "43063    [{'country_code': 'CO', 'lat': 6.267417, 'stat...\n",
              "43064    [{'country_code': 'CO', 'lat': 6.267417, 'stat...\n",
              "43065    [{'country_code': 'CO', 'lat': 6.267417, 'stat...\n",
              "43066    [{'country_code': 'CO', 'lat': 6.267417, 'stat...\n",
              "43067    [{'country_code': 'CO', 'lat': 6.267417, 'stat...\n",
              "43068    [{'country_code': 'CO', 'lat': 6.267417, 'stat...\n",
              "43069    [{'country_code': 'CO', 'lat': 6.267417, 'stat...\n",
              "43070    [{'country_code': 'CO', 'lat': 6.267417, 'stat...\n",
              "43071    [{'country_code': 'CO', 'lat': 6.267417, 'stat...\n",
              "43072    [{'country_code': 'CO', 'lat': 6.267417, 'stat...\n",
              "43073    [{'country_code': 'CO', 'lat': 6.267417, 'stat...\n",
              "Name: aff, Length: 43074, dtype: object"
            ]
          },
          "metadata": {
            "tags": []
          },
          "execution_count": 121
        }
      ]
    },
    {
      "cell_type": "code",
      "metadata": {
        "id": "q_x0BFXmFQjX",
        "colab_type": "code",
        "colab": {},
        "outputId": "2ef4356b-252d-41e5-aea1-7533a97030da"
      },
      "source": [
        "ln.citation_ids[12]"
      ],
      "execution_count": 0,
      "outputs": [
        {
          "output_type": "execute_result",
          "data": {
            "text/plain": [
              "[{'type': 'doi', 'value': '10.1007/978-0-85729-024-3_58'},\n",
              " {'type': 'magid', 'value': 'mag39991164'}]"
            ]
          },
          "metadata": {
            "tags": []
          },
          "execution_count": 20
        }
      ]
    },
    {
      "cell_type": "code",
      "metadata": {
        "id": "slN8G0UXFQja",
        "colab_type": "code",
        "colab": {},
        "outputId": "6254b7ba-48fc-44d6-cf9c-6d19dfee48d9"
      },
      "source": [
        "ln.title[12]"
      ],
      "execution_count": 0,
      "outputs": [
        {
          "output_type": "execute_result",
          "data": {
            "text/plain": [
              "'ISPE CE - Context Model for Testing Analysis Phase of Information Systems'"
            ]
          },
          "metadata": {
            "tags": []
          },
          "execution_count": 21
        }
      ]
    },
    {
      "cell_type": "code",
      "metadata": {
        "id": "kH5WxoMEFQjc",
        "colab_type": "code",
        "colab": {},
        "outputId": "c4b71955-4b00-43ae-c1fe-ebdc78299d75"
      },
      "source": [
        "ln.references[12]"
      ],
      "execution_count": 0,
      "outputs": [
        {
          "output_type": "execute_result",
          "data": {
            "text/plain": [
              "[{'lens_id': 1461871797126},\n",
              " {'lens_id': 3475226897286},\n",
              " {'lens_id': 5219935375808},\n",
              " {'lens_id': 6138891563925},\n",
              " {'lens_id': 6457769243819},\n",
              " {'lens_id': 7847830510193},\n",
              " {'lens_id': 9309225081657},\n",
              " {'lens_id': 9496614371740},\n",
              " {'lens_id': 11466114976775},\n",
              " {'lens_id': 19469456393751}]"
            ]
          },
          "metadata": {
            "tags": []
          },
          "execution_count": 24
        }
      ]
    },
    {
      "cell_type": "code",
      "metadata": {
        "id": "oru5Y8chFQje",
        "colab_type": "code",
        "colab": {},
        "outputId": "27a2f4c6-6b4f-46e0-89d9-37f9abe34958"
      },
      "source": [
        "ln[ln.record_lens_id.str.contains('269-340-095-748')]"
      ],
      "execution_count": 0,
      "outputs": [
        {
          "output_type": "execute_result",
          "data": {
            "text/html": [
              "<div>\n",
              "<style scoped>\n",
              "    .dataframe tbody tr th:only-of-type {\n",
              "        vertical-align: middle;\n",
              "    }\n",
              "\n",
              "    .dataframe tbody tr th {\n",
              "        vertical-align: top;\n",
              "    }\n",
              "\n",
              "    .dataframe thead th {\n",
              "        text-align: right;\n",
              "    }\n",
              "</style>\n",
              "<table border=\"1\" class=\"dataframe\">\n",
              "  <thead>\n",
              "    <tr style=\"text-align: right;\">\n",
              "      <th></th>\n",
              "      <th>abstract</th>\n",
              "      <th>authors</th>\n",
              "      <th>chemicals</th>\n",
              "      <th>citation_ids</th>\n",
              "      <th>clinical_trials</th>\n",
              "      <th>date_published</th>\n",
              "      <th>fields_of_study</th>\n",
              "      <th>funding</th>\n",
              "      <th>issue</th>\n",
              "      <th>journal</th>\n",
              "      <th>...</th>\n",
              "      <th>publication_supplementary_type</th>\n",
              "      <th>publication_type</th>\n",
              "      <th>record_lens_id</th>\n",
              "      <th>referenced_by_count</th>\n",
              "      <th>referenced_by_patent_count</th>\n",
              "      <th>references</th>\n",
              "      <th>source_urls</th>\n",
              "      <th>title</th>\n",
              "      <th>volume</th>\n",
              "      <th>year_published</th>\n",
              "    </tr>\n",
              "  </thead>\n",
              "  <tbody>\n",
              "  </tbody>\n",
              "</table>\n",
              "<p>0 rows × 25 columns</p>\n",
              "</div>"
            ],
            "text/plain": [
              "Empty DataFrame\n",
              "Columns: [abstract, authors, chemicals, citation_ids, clinical_trials, date_published, fields_of_study, funding, issue, journal, keywords, languages, mesh_terms, pages_end, pages_start, publication_supplementary_type, publication_type, record_lens_id, referenced_by_count, referenced_by_patent_count, references, source_urls, title, volume, year_published]\n",
              "Index: []\n",
              "\n",
              "[0 rows x 25 columns]"
            ]
          },
          "metadata": {
            "tags": []
          },
          "execution_count": 18
        }
      ]
    },
    {
      "cell_type": "code",
      "metadata": {
        "id": "oms-6QjnFQjg",
        "colab_type": "code",
        "colab": {},
        "outputId": "68e3310e-4cf2-4c39-844e-a05b483ed079"
      },
      "source": [
        "pd.DataFrame( pd.DataFrame( ln.authors[0] ).affiliations[0] ).grid[0]"
      ],
      "execution_count": 0,
      "outputs": [
        {
          "output_type": "execute_result",
          "data": {
            "text/plain": [
              "{'addresses': [{'city': 'Medellín',\n",
              "   'country_code': 'CO',\n",
              "   'lat': 6.267417,\n",
              "   'lon': -75.568389,\n",
              "   'state_code': ''}],\n",
              " 'email_address': None,\n",
              " 'id': 'grid.412881.6',\n",
              " 'links': ['http://www.udea.edu.co/portal/page/portal/EnglishPortal/EnglishPortal'],\n",
              " 'name': 'University of Antioquia',\n",
              " 'status': 'active',\n",
              " 'types': ['Education'],\n",
              " 'wikipedia_url': 'http://en.wikipedia.org/wiki/University_of_Antioquia'}"
            ]
          },
          "metadata": {
            "tags": []
          },
          "execution_count": 14
        }
      ]
    },
    {
      "cell_type": "code",
      "metadata": {
        "id": "TjC3Yyr2FQjj",
        "colab_type": "code",
        "colab": {}
      },
      "source": [
        ""
      ],
      "execution_count": 0,
      "outputs": []
    }
  ]
}