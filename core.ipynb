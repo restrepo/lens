{
 "cells": [
  {
   "cell_type": "markdown",
   "metadata": {
    "colab_type": "text",
    "id": "view-in-github"
   },
   "source": [
    "<a href=\"https://colab.research.google.com/github/restrepo/lens/blob/master/example.ipynb\" target=\"_parent\"><img src=\"https://colab.research.google.com/assets/colab-badge.svg\" alt=\"Open In Colab\"/></a>"
   ]
  },
  {
   "cell_type": "markdown",
   "metadata": {
    "colab_type": "text",
    "id": "tJ5RsUi2PNPN"
   },
   "source": [
    "# Core\n",
    "Example of core APU search:\n",
    "\n",
    "https://core.ac.uk/docs/"
   ]
  },
  {
   "cell_type": "code",
   "execution_count": 1,
   "metadata": {},
   "outputs": [],
   "source": [
    "import getpass"
   ]
  },
  {
   "cell_type": "code",
   "execution_count": 3,
   "metadata": {},
   "outputs": [
    {
     "name": "stdout",
     "output_type": "stream",
     "text": [
      "API KEY:········\n"
     ]
    }
   ],
   "source": [
    "apikey=getpass.getpass('API KEY:')"
   ]
  },
  {
   "cell_type": "code",
   "execution_count": 16,
   "metadata": {
    "colab": {
     "base_uri": "https://localhost:8080/",
     "height": 35
    },
    "colab_type": "code",
    "id": "aJ60TwdGh7_b",
    "outputId": "587376c9-a548-4843-f01f-4baf2dcf7a2b"
   },
   "outputs": [],
   "source": [
    "doi=\"10.1103/PhysRevD.97.055045\""
   ]
  },
  {
   "cell_type": "markdown",
   "metadata": {},
   "source": [
    "Check against: https://core.ac.uk/display/93952822"
   ]
  },
  {
   "cell_type": "code",
   "execution_count": 25,
   "metadata": {
    "colab": {},
    "colab_type": "code",
    "id": "E56vkhzpFQiY"
   },
   "outputs": [],
   "source": [
    "import pandas as pd\n",
    "pd.set_option('display.max_rows', 500)\n",
    "pd.set_option('display.max_columns', 500)\n",
    "pd.set_option('display.max_colwidth',200)"
   ]
  },
  {
   "cell_type": "code",
   "execution_count": 18,
   "metadata": {
    "colab": {},
    "colab_type": "code",
    "id": "1KZ2AlcHFQid"
   },
   "outputs": [],
   "source": [
    "crtmp=pd.read_json('https://core.ac.uk/api-v2/search/doi:\"{}\"?apiKey={}'.format(doi,apikey)) "
   ]
  },
  {
   "cell_type": "code",
   "execution_count": 20,
   "metadata": {},
   "outputs": [],
   "source": [
    "cr=pd.DataFrame().append( crtmp.data.loc[0],ignore_index=True)"
   ]
  },
  {
   "cell_type": "code",
   "execution_count": 26,
   "metadata": {},
   "outputs": [
    {
     "data": {
      "text/html": [
       "<div>\n",
       "<style scoped>\n",
       "    .dataframe tbody tr th:only-of-type {\n",
       "        vertical-align: middle;\n",
       "    }\n",
       "\n",
       "    .dataframe tbody tr th {\n",
       "        vertical-align: top;\n",
       "    }\n",
       "\n",
       "    .dataframe thead th {\n",
       "        text-align: right;\n",
       "    }\n",
       "</style>\n",
       "<table border=\"1\" class=\"dataframe\">\n",
       "  <thead>\n",
       "    <tr style=\"text-align: right;\">\n",
       "      <th></th>\n",
       "      <th>authors</th>\n",
       "      <th>citations</th>\n",
       "      <th>contributors</th>\n",
       "      <th>datePublished</th>\n",
       "      <th>deleted</th>\n",
       "      <th>description</th>\n",
       "      <th>documentType</th>\n",
       "      <th>documentTypeConfidence</th>\n",
       "      <th>doi</th>\n",
       "      <th>downloadUrl</th>\n",
       "      <th>duplicateId</th>\n",
       "      <th>fullText</th>\n",
       "      <th>fullTextIdentifier</th>\n",
       "      <th>id</th>\n",
       "      <th>identifiers</th>\n",
       "      <th>journals</th>\n",
       "      <th>language</th>\n",
       "      <th>oai</th>\n",
       "      <th>pdfHashValue</th>\n",
       "      <th>publisher</th>\n",
       "      <th>rawRecordXml</th>\n",
       "      <th>relations</th>\n",
       "      <th>repositories</th>\n",
       "      <th>repositoryDocument</th>\n",
       "      <th>similarities</th>\n",
       "      <th>subjects</th>\n",
       "      <th>title</th>\n",
       "      <th>topics</th>\n",
       "      <th>types</th>\n",
       "      <th>urls</th>\n",
       "      <th>year</th>\n",
       "    </tr>\n",
       "  </thead>\n",
       "  <tbody>\n",
       "    <tr>\n",
       "      <th>0</th>\n",
       "      <td>[Dutta, Bhaskar, Palacio, Guillermo, Ruiz-Alvarez, Jose D., Restrepo, Diego]</td>\n",
       "      <td>[]</td>\n",
       "      <td>[]</td>\n",
       "      <td>2018-03-13</td>\n",
       "      <td>ALLOWED</td>\n",
       "      <td>In this paper we probe inert Higgs doublet model at the LHC using Vector\\nBoson Fusion (VBF) search strategy. We optimize the selection cuts and\\ninvestigate the parameter space of the model and w...</td>\n",
       "      <td>research</td>\n",
       "      <td>1.0</td>\n",
       "      <td>10.1103/PhysRevD.97.055045</td>\n",
       "      <td></td>\n",
       "      <td>None</td>\n",
       "      <td>Vector Boson Fusion in the Inert Doublet Model\\nBhaskar Dutta∗\\nMitchell Institute for Fundamental Physics and Astronomy,\\nDepartment of Physics and Astronomy, Texas A&amp;M University, College Statio...</td>\n",
       "      <td>None</td>\n",
       "      <td>93952822</td>\n",
       "      <td>[oai:arXiv.org:1709.09796, 10.1103/PhysRevD.97.055045]</td>\n",
       "      <td>None</td>\n",
       "      <td>None</td>\n",
       "      <td>oai:arXiv.org:1709.09796</td>\n",
       "      <td>None</td>\n",
       "      <td>None</td>\n",
       "      <td>&lt;record&gt;&lt;header&gt;&lt;identifier&gt;\\n\\n\\n oai:arXiv.org:1709.09796&lt;/identifier&gt;&lt;datestamp&gt;\\n 2018-04-04&lt;/datestamp&gt;&lt;setSpec&gt;\\n physics:hep-ph&lt;/setSpec&gt;\\n&lt;/header&gt;&lt;metadata&gt;&lt;oai_dc:dc xmlns:oai_dc=\"http:/...</td>\n",
       "      <td>[]</td>\n",
       "      <td>[{'id': '144', 'urlHomepage': None, 'description': None, 'disabled': False, 'nrUpdates': 0, 'repositoryLocation': None, 'pdfStatus': None, 'uri': None, 'physicalName': 'noname', 'metadataFormat': ...</td>\n",
       "      <td>{'deletedStatus': '0', 'depositedDate': 1522796400000, 'indexed': 0, 'pdfSize': 506365, 'pdfStatus': 0, 'timestamp': 1522796400000, 'textStatus': 1, 'metadataAdded': 1508204941000, 'tdmOnly': True...</td>\n",
       "      <td>None</td>\n",
       "      <td>[text]</td>\n",
       "      <td>Vector Boson Fusion in the Inert Doublet Model</td>\n",
       "      <td>[High Energy Physics - Phenomenology]</td>\n",
       "      <td>[]</td>\n",
       "      <td>[http://arxiv.org/abs/1709.09796, https://github.com/restrepo/VBF_IDM.]</td>\n",
       "      <td>2018.0</td>\n",
       "    </tr>\n",
       "  </tbody>\n",
       "</table>\n",
       "</div>"
      ],
      "text/plain": [
       "                                                                        authors  \\\n",
       "0  [Dutta, Bhaskar, Palacio, Guillermo, Ruiz-Alvarez, Jose D., Restrepo, Diego]   \n",
       "\n",
       "  citations contributors datePublished  deleted  \\\n",
       "0        []           []    2018-03-13  ALLOWED   \n",
       "\n",
       "                                                                                                                                                                                               description  \\\n",
       "0  In this paper we probe inert Higgs doublet model at the LHC using Vector\\nBoson Fusion (VBF) search strategy. We optimize the selection cuts and\\ninvestigate the parameter space of the model and w...   \n",
       "\n",
       "  documentType  documentTypeConfidence                         doi  \\\n",
       "0     research                     1.0  10.1103/PhysRevD.97.055045   \n",
       "\n",
       "  downloadUrl duplicateId  \\\n",
       "0                    None   \n",
       "\n",
       "                                                                                                                                                                                                  fullText  \\\n",
       "0  Vector Boson Fusion in the Inert Doublet Model\\nBhaskar Dutta∗\\nMitchell Institute for Fundamental Physics and Astronomy,\\nDepartment of Physics and Astronomy, Texas A&M University, College Statio...   \n",
       "\n",
       "  fullTextIdentifier        id  \\\n",
       "0               None  93952822   \n",
       "\n",
       "                                              identifiers journals language  \\\n",
       "0  [oai:arXiv.org:1709.09796, 10.1103/PhysRevD.97.055045]     None     None   \n",
       "\n",
       "                        oai pdfHashValue publisher  \\\n",
       "0  oai:arXiv.org:1709.09796         None      None   \n",
       "\n",
       "                                                                                                                                                                                              rawRecordXml  \\\n",
       "0  <record><header><identifier>\\n\\n\\n oai:arXiv.org:1709.09796</identifier><datestamp>\\n 2018-04-04</datestamp><setSpec>\\n physics:hep-ph</setSpec>\\n</header><metadata><oai_dc:dc xmlns:oai_dc=\"http:/...   \n",
       "\n",
       "  relations  \\\n",
       "0        []   \n",
       "\n",
       "                                                                                                                                                                                              repositories  \\\n",
       "0  [{'id': '144', 'urlHomepage': None, 'description': None, 'disabled': False, 'nrUpdates': 0, 'repositoryLocation': None, 'pdfStatus': None, 'uri': None, 'physicalName': 'noname', 'metadataFormat': ...   \n",
       "\n",
       "                                                                                                                                                                                        repositoryDocument  \\\n",
       "0  {'deletedStatus': '0', 'depositedDate': 1522796400000, 'indexed': 0, 'pdfSize': 506365, 'pdfStatus': 0, 'timestamp': 1522796400000, 'textStatus': 1, 'metadataAdded': 1508204941000, 'tdmOnly': True...   \n",
       "\n",
       "  similarities subjects                                           title  \\\n",
       "0         None   [text]  Vector Boson Fusion in the Inert Doublet Model   \n",
       "\n",
       "                                  topics types  \\\n",
       "0  [High Energy Physics - Phenomenology]    []   \n",
       "\n",
       "                                                                      urls  \\\n",
       "0  [http://arxiv.org/abs/1709.09796, https://github.com/restrepo/VBF_IDM.]   \n",
       "\n",
       "     year  \n",
       "0  2018.0  "
      ]
     },
     "execution_count": 26,
     "metadata": {},
     "output_type": "execute_result"
    }
   ],
   "source": [
    "pd.DataFrame().append( cr._source.loc[0],ignore_index=True)"
   ]
  }
 ],
 "metadata": {
  "colab": {
   "include_colab_link": true,
   "name": "example.ipynb",
   "provenance": [],
   "version": "0.3.2"
  },
  "kernelspec": {
   "display_name": "Python 3",
   "language": "python",
   "name": "python3"
  },
  "language_info": {
   "codemirror_mode": {
    "name": "ipython",
    "version": 3
   },
   "file_extension": ".py",
   "mimetype": "text/x-python",
   "name": "python",
   "nbconvert_exporter": "python",
   "pygments_lexer": "ipython3",
   "version": "3.5.3"
  }
 },
 "nbformat": 4,
 "nbformat_minor": 1
}
